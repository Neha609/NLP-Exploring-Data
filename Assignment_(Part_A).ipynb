{
  "nbformat": 4,
  "nbformat_minor": 0,
  "metadata": {
    "colab": {
      "name": "Assignment (Part A).ipynb",
      "provenance": [],
      "collapsed_sections": [],
      "mount_file_id": "1ZFeWvH2qUXtrLDqmADMs1hk3GIkNQQWO",
      "authorship_tag": "ABX9TyP+jxxoAdA92smYtGJJ8jCm"
    },
    "kernelspec": {
      "name": "python3",
      "display_name": "Python 3"
    }
  },
  "cells": [
    {
      "cell_type": "markdown",
      "metadata": {
        "id": "3xo14kGDG4DE",
        "colab_type": "text"
      },
      "source": [
        "# ***1. Take sample dataset of IMDB.***"
      ]
    },
    {
      "cell_type": "code",
      "metadata": {
        "id": "aP4bjkvjtuxn",
        "colab_type": "code",
        "colab": {
          "base_uri": "https://localhost:8080/",
          "height": 224
        },
        "outputId": "e5d81c53-70ca-4730-e6f6-0266141970d1"
      },
      "source": [
        "# Colab library to upload files to notebook\n",
        "#from google.colab import files\n",
        "\n",
        "# Install Kaggle library\n",
        "!pip install kaggle"
      ],
      "execution_count": null,
      "outputs": [
        {
          "output_type": "stream",
          "text": [
            "Requirement already satisfied: kaggle in /usr/local/lib/python3.6/dist-packages (1.5.6)\n",
            "Requirement already satisfied: python-dateutil in /usr/local/lib/python3.6/dist-packages (from kaggle) (2.8.1)\n",
            "Requirement already satisfied: six>=1.10 in /usr/local/lib/python3.6/dist-packages (from kaggle) (1.12.0)\n",
            "Requirement already satisfied: requests in /usr/local/lib/python3.6/dist-packages (from kaggle) (2.23.0)\n",
            "Requirement already satisfied: tqdm in /usr/local/lib/python3.6/dist-packages (from kaggle) (4.41.1)\n",
            "Requirement already satisfied: certifi in /usr/local/lib/python3.6/dist-packages (from kaggle) (2020.4.5.1)\n",
            "Requirement already satisfied: python-slugify in /usr/local/lib/python3.6/dist-packages (from kaggle) (4.0.0)\n",
            "Requirement already satisfied: urllib3<1.25,>=1.21.1 in /usr/local/lib/python3.6/dist-packages (from kaggle) (1.24.3)\n",
            "Requirement already satisfied: idna<3,>=2.5 in /usr/local/lib/python3.6/dist-packages (from requests->kaggle) (2.9)\n",
            "Requirement already satisfied: chardet<4,>=3.0.2 in /usr/local/lib/python3.6/dist-packages (from requests->kaggle) (3.0.4)\n",
            "Requirement already satisfied: text-unidecode>=1.3 in /usr/local/lib/python3.6/dist-packages (from python-slugify->kaggle) (1.3)\n"
          ],
          "name": "stdout"
        }
      ]
    },
    {
      "cell_type": "code",
      "metadata": {
        "id": "dsbUHr_VuYPE",
        "colab_type": "code",
        "colab": {}
      },
      "source": [
        "#Providing Kaggle API so that we can use Kaggle Dataset on Colab\n",
        "import json\n",
        "token = {\"username\":\"neha49712\",\"key\":\"e55a51446443d6c6c8938198a09f816c\"}\n",
        "with open('/content/kaggle.json', 'w') as file:\n",
        "    json.dump(token, file)"
      ],
      "execution_count": null,
      "outputs": []
    },
    {
      "cell_type": "code",
      "metadata": {
        "id": "2u6tJfa-ua6V",
        "colab_type": "code",
        "colab": {}
      },
      "source": [
        "# Copying My token to Kaggle root directory\n",
        "!cp /content/kaggle.json ~/.kaggle/"
      ],
      "execution_count": null,
      "outputs": []
    },
    {
      "cell_type": "code",
      "metadata": {
        "id": "c5o6FbvCuhFL",
        "colab_type": "code",
        "colab": {
          "base_uri": "https://localhost:8080/",
          "height": 71
        },
        "outputId": "bb9b164b-ece7-40aa-c520-a985eb1cbc8a"
      },
      "source": [
        "# Setting Path for Route Directory\n",
        "!kaggle config set -n path -v{/content}"
      ],
      "execution_count": null,
      "outputs": [
        {
          "output_type": "stream",
          "text": [
            "Warning: Your Kaggle API key is readable by other users on this system! To fix this, you can run 'chmod 600 /root/.kaggle/kaggle.json'\n",
            "- path is now set to: {/content}\n"
          ],
          "name": "stdout"
        }
      ]
    },
    {
      "cell_type": "code",
      "metadata": {
        "id": "vMlwIz-iuqat",
        "colab_type": "code",
        "colab": {
          "base_uri": "https://localhost:8080/",
          "height": 105
        },
        "outputId": "6af2b753-f386-4405-f609-8c8ce5075b17"
      },
      "source": [
        "# Downloading IMDB dataset from Kaggle on Colab\n",
        "!kaggle datasets download -d lakshmi25npathi/imdb-dataset-of-50k-movie-reviews"
      ],
      "execution_count": null,
      "outputs": [
        {
          "output_type": "stream",
          "text": [
            "Warning: Your Kaggle API key is readable by other users on this system! To fix this, you can run 'chmod 600 /root/.kaggle/kaggle.json'\n",
            "Downloading imdb-dataset-of-50k-movie-reviews.zip to {/content}/datasets/lakshmi25npathi/imdb-dataset-of-50k-movie-reviews\n",
            " 62% 16.0M/25.7M [00:00<00:00, 46.2MB/s]\n",
            "100% 25.7M/25.7M [00:00<00:00, 73.9MB/s]\n"
          ],
          "name": "stdout"
        }
      ]
    },
    {
      "cell_type": "code",
      "metadata": {
        "id": "WqzZRrpGwAIi",
        "colab_type": "code",
        "colab": {
          "base_uri": "https://localhost:8080/",
          "height": 71
        },
        "outputId": "3025f7b3-ac04-44c2-94b0-cb4ae0b4c9f4"
      },
      "source": [
        "#Unzipping the data downloaded from Kaggle\n",
        "!unzip /content/{/content}/datasets/lakshmi25npathi/imdb-dataset-of-50k-movie-reviews/imdb-dataset-of-50k-movie-reviews.zip"
      ],
      "execution_count": null,
      "outputs": [
        {
          "output_type": "stream",
          "text": [
            "Archive:  /content/{/content}/datasets/lakshmi25npathi/imdb-dataset-of-50k-movie-reviews/imdb-dataset-of-50k-movie-reviews.zip\n",
            "  inflating: IMDB Dataset.csv        \n"
          ],
          "name": "stdout"
        }
      ]
    },
    {
      "cell_type": "code",
      "metadata": {
        "id": "G0yUYf6nwNT8",
        "colab_type": "code",
        "colab": {}
      },
      "source": [
        "#Importing pandas (Import statements should always be on top \n",
        "# this one is just to show where we are gonna use which library)\n",
        "import pandas as pd"
      ],
      "execution_count": null,
      "outputs": []
    },
    {
      "cell_type": "code",
      "metadata": {
        "id": "Xb-4YzO_wT8s",
        "colab_type": "code",
        "colab": {}
      },
      "source": [
        "#Read csv file\n",
        "imdb_csv = pd .read_csv('/content/IMDB Dataset.csv')"
      ],
      "execution_count": null,
      "outputs": []
    },
    {
      "cell_type": "code",
      "metadata": {
        "id": "XF5KKbq-wXFk",
        "colab_type": "code",
        "colab": {
          "base_uri": "https://localhost:8080/",
          "height": 173
        },
        "outputId": "7463d072-b662-457b-ba97-f6ac1549b145"
      },
      "source": [
        "#Let's describe our dataset\n",
        "imdb_csv.describe()"
      ],
      "execution_count": null,
      "outputs": [
        {
          "output_type": "execute_result",
          "data": {
            "text/html": [
              "<div>\n",
              "<style scoped>\n",
              "    .dataframe tbody tr th:only-of-type {\n",
              "        vertical-align: middle;\n",
              "    }\n",
              "\n",
              "    .dataframe tbody tr th {\n",
              "        vertical-align: top;\n",
              "    }\n",
              "\n",
              "    .dataframe thead th {\n",
              "        text-align: right;\n",
              "    }\n",
              "</style>\n",
              "<table border=\"1\" class=\"dataframe\">\n",
              "  <thead>\n",
              "    <tr style=\"text-align: right;\">\n",
              "      <th></th>\n",
              "      <th>review</th>\n",
              "      <th>sentiment</th>\n",
              "    </tr>\n",
              "  </thead>\n",
              "  <tbody>\n",
              "    <tr>\n",
              "      <th>count</th>\n",
              "      <td>50000</td>\n",
              "      <td>50000</td>\n",
              "    </tr>\n",
              "    <tr>\n",
              "      <th>unique</th>\n",
              "      <td>49582</td>\n",
              "      <td>2</td>\n",
              "    </tr>\n",
              "    <tr>\n",
              "      <th>top</th>\n",
              "      <td>Loved today's show!!! It was a variety and not...</td>\n",
              "      <td>negative</td>\n",
              "    </tr>\n",
              "    <tr>\n",
              "      <th>freq</th>\n",
              "      <td>5</td>\n",
              "      <td>25000</td>\n",
              "    </tr>\n",
              "  </tbody>\n",
              "</table>\n",
              "</div>"
            ],
            "text/plain": [
              "                                                   review sentiment\n",
              "count                                               50000     50000\n",
              "unique                                              49582         2\n",
              "top     Loved today's show!!! It was a variety and not...  negative\n",
              "freq                                                    5     25000"
            ]
          },
          "metadata": {
            "tags": []
          },
          "execution_count": 13
        }
      ]
    },
    {
      "cell_type": "code",
      "metadata": {
        "id": "iYc4gMETwaVh",
        "colab_type": "code",
        "colab": {
          "base_uri": "https://localhost:8080/",
          "height": 359
        },
        "outputId": "481f0481-6bc3-4bb0-de15-45b4820cfc36"
      },
      "source": [
        "#It will show top 10 records of imdb dataset\n",
        "imdb_csv.head(10)"
      ],
      "execution_count": null,
      "outputs": [
        {
          "output_type": "execute_result",
          "data": {
            "text/html": [
              "<div>\n",
              "<style scoped>\n",
              "    .dataframe tbody tr th:only-of-type {\n",
              "        vertical-align: middle;\n",
              "    }\n",
              "\n",
              "    .dataframe tbody tr th {\n",
              "        vertical-align: top;\n",
              "    }\n",
              "\n",
              "    .dataframe thead th {\n",
              "        text-align: right;\n",
              "    }\n",
              "</style>\n",
              "<table border=\"1\" class=\"dataframe\">\n",
              "  <thead>\n",
              "    <tr style=\"text-align: right;\">\n",
              "      <th></th>\n",
              "      <th>review</th>\n",
              "      <th>sentiment</th>\n",
              "    </tr>\n",
              "  </thead>\n",
              "  <tbody>\n",
              "    <tr>\n",
              "      <th>0</th>\n",
              "      <td>One of the other reviewers has mentioned that ...</td>\n",
              "      <td>positive</td>\n",
              "    </tr>\n",
              "    <tr>\n",
              "      <th>1</th>\n",
              "      <td>A wonderful little production. &lt;br /&gt;&lt;br /&gt;The...</td>\n",
              "      <td>positive</td>\n",
              "    </tr>\n",
              "    <tr>\n",
              "      <th>2</th>\n",
              "      <td>I thought this was a wonderful way to spend ti...</td>\n",
              "      <td>positive</td>\n",
              "    </tr>\n",
              "    <tr>\n",
              "      <th>3</th>\n",
              "      <td>Basically there's a family where a little boy ...</td>\n",
              "      <td>negative</td>\n",
              "    </tr>\n",
              "    <tr>\n",
              "      <th>4</th>\n",
              "      <td>Petter Mattei's \"Love in the Time of Money\" is...</td>\n",
              "      <td>positive</td>\n",
              "    </tr>\n",
              "    <tr>\n",
              "      <th>5</th>\n",
              "      <td>Probably my all-time favorite movie, a story o...</td>\n",
              "      <td>positive</td>\n",
              "    </tr>\n",
              "    <tr>\n",
              "      <th>6</th>\n",
              "      <td>I sure would like to see a resurrection of a u...</td>\n",
              "      <td>positive</td>\n",
              "    </tr>\n",
              "    <tr>\n",
              "      <th>7</th>\n",
              "      <td>This show was an amazing, fresh &amp; innovative i...</td>\n",
              "      <td>negative</td>\n",
              "    </tr>\n",
              "    <tr>\n",
              "      <th>8</th>\n",
              "      <td>Encouraged by the positive comments about this...</td>\n",
              "      <td>negative</td>\n",
              "    </tr>\n",
              "    <tr>\n",
              "      <th>9</th>\n",
              "      <td>If you like original gut wrenching laughter yo...</td>\n",
              "      <td>positive</td>\n",
              "    </tr>\n",
              "  </tbody>\n",
              "</table>\n",
              "</div>"
            ],
            "text/plain": [
              "                                              review sentiment\n",
              "0  One of the other reviewers has mentioned that ...  positive\n",
              "1  A wonderful little production. <br /><br />The...  positive\n",
              "2  I thought this was a wonderful way to spend ti...  positive\n",
              "3  Basically there's a family where a little boy ...  negative\n",
              "4  Petter Mattei's \"Love in the Time of Money\" is...  positive\n",
              "5  Probably my all-time favorite movie, a story o...  positive\n",
              "6  I sure would like to see a resurrection of a u...  positive\n",
              "7  This show was an amazing, fresh & innovative i...  negative\n",
              "8  Encouraged by the positive comments about this...  negative\n",
              "9  If you like original gut wrenching laughter yo...  positive"
            ]
          },
          "metadata": {
            "tags": []
          },
          "execution_count": 14
        }
      ]
    },
    {
      "cell_type": "markdown",
      "metadata": {
        "id": "vMkxnJaWHAdY",
        "colab_type": "text"
      },
      "source": [
        "# ***2. Removing Special charaters and Hyperlinks***"
      ]
    },
    {
      "cell_type": "code",
      "metadata": {
        "id": "n4MHv8Qkwgil",
        "colab_type": "code",
        "colab": {}
      },
      "source": [
        "# As removing special characters may remove \"/\" as well and it may cause problem in removing Hyperlinks\n",
        "# First we are removing Hyperlinks\n",
        "#Importing Regular Expressions\n",
        "import re\n",
        "\n",
        "#Removing Hyperlink from each row via Regular Expression\n",
        "\n",
        "for index,row in imdb_csv.iterrows():\n",
        "  pattern0 = re.compile('http[s]?://\\S+')\n",
        "  imdb_csv.loc[index,'review'] = re.sub(pattern0, ' ', row['review'] )\n",
        "  \n"
      ],
      "execution_count": null,
      "outputs": []
    },
    {
      "cell_type": "code",
      "metadata": {
        "id": "D3CmsF6uwkPY",
        "colab_type": "code",
        "colab": {
          "base_uri": "https://localhost:8080/",
          "height": 221
        },
        "outputId": "2e6c27a1-bcbb-4f7e-ab2f-219750827215"
      },
      "source": [
        "#Print Dataset to view Impact\n",
        "print(imdb_csv['review'])"
      ],
      "execution_count": null,
      "outputs": [
        {
          "output_type": "stream",
          "text": [
            "0        One of the other reviewers has mentioned that ...\n",
            "1        A wonderful little production. <br /><br />The...\n",
            "2        I thought this was a wonderful way to spend ti...\n",
            "3        Basically there's a family where a little boy ...\n",
            "4        Petter Mattei's \"Love in the Time of Money\" is...\n",
            "                               ...                        \n",
            "49995    I thought this movie did a down right good job...\n",
            "49996    Bad plot, bad dialogue, bad acting, idiotic di...\n",
            "49997    I am a Catholic taught in parochial elementary...\n",
            "49998    I'm going to have to disagree with the previou...\n",
            "49999    No one expects the Star Trek movies to be high...\n",
            "Name: review, Length: 50000, dtype: object\n"
          ],
          "name": "stdout"
        }
      ]
    },
    {
      "cell_type": "code",
      "metadata": {
        "id": "lLAd2Y5JwnPK",
        "colab_type": "code",
        "colab": {}
      },
      "source": [
        "#Removing <br /> Tags from each row via Regular Expression\n",
        "\n",
        "for index,row in imdb_csv.iterrows():\n",
        "  pattern1 = re.compile('<br />')\n",
        "  imdb_csv.loc[index,'review'] = re.sub(pattern1, ' ', row['review'] )\n"
      ],
      "execution_count": null,
      "outputs": []
    },
    {
      "cell_type": "code",
      "metadata": {
        "id": "fst_vz1Cwr0J",
        "colab_type": "code",
        "colab": {
          "base_uri": "https://localhost:8080/",
          "height": 221
        },
        "outputId": "7eab02a7-0018-4250-8229-65b8bb51382d"
      },
      "source": [
        "#Print Dataset to view Impact\n",
        "print(imdb_csv['review'])"
      ],
      "execution_count": null,
      "outputs": [
        {
          "output_type": "stream",
          "text": [
            "0        One of the other reviewers has mentioned that ...\n",
            "1        A wonderful little production.   The filming t...\n",
            "2        I thought this was a wonderful way to spend ti...\n",
            "3        Basically there's a family where a little boy ...\n",
            "4        Petter Mattei's \"Love in the Time of Money\" is...\n",
            "                               ...                        \n",
            "49995    I thought this movie did a down right good job...\n",
            "49996    Bad plot, bad dialogue, bad acting, idiotic di...\n",
            "49997    I am a Catholic taught in parochial elementary...\n",
            "49998    I'm going to have to disagree with the previou...\n",
            "49999    No one expects the Star Trek movies to be high...\n",
            "Name: review, Length: 50000, dtype: object\n"
          ],
          "name": "stdout"
        }
      ]
    },
    {
      "cell_type": "code",
      "metadata": {
        "id": "qTMVQDypwvCe",
        "colab_type": "code",
        "colab": {}
      },
      "source": [
        "#Same as removing Special Charaters from each row via Regular Expression\n",
        "\n",
        "for index,row in imdb_csv.iterrows():\n",
        "  pattern2 = re.compile('[^A-Za-z0-9]+')\n",
        "  imdb_csv.loc[index,'review'] = re.sub(pattern2, ' ', row['review'] )\n"
      ],
      "execution_count": null,
      "outputs": []
    },
    {
      "cell_type": "code",
      "metadata": {
        "id": "eY2lcdRSwxqK",
        "colab_type": "code",
        "colab": {
          "base_uri": "https://localhost:8080/",
          "height": 221
        },
        "outputId": "99346ffd-ffb2-4d3c-8549-0e82d12ad23e"
      },
      "source": [
        "#Print Dataset to view Impact\n",
        "print(imdb_csv['review'])"
      ],
      "execution_count": null,
      "outputs": [
        {
          "output_type": "stream",
          "text": [
            "0        One of the other reviewers has mentioned that ...\n",
            "1        A wonderful little production The filming tech...\n",
            "2        I thought this was a wonderful way to spend ti...\n",
            "3        Basically there s a family where a little boy ...\n",
            "4        Petter Mattei s Love in the Time of Money is a...\n",
            "                               ...                        \n",
            "49995    I thought this movie did a down right good job...\n",
            "49996    Bad plot bad dialogue bad acting idiotic direc...\n",
            "49997    I am a Catholic taught in parochial elementary...\n",
            "49998    I m going to have to disagree with the previou...\n",
            "49999    No one expects the Star Trek movies to be high...\n",
            "Name: review, Length: 50000, dtype: object\n"
          ],
          "name": "stdout"
        }
      ]
    },
    {
      "cell_type": "markdown",
      "metadata": {
        "id": "QZ9zWMnLHHmP",
        "colab_type": "text"
      },
      "source": [
        "### ***3. Using Spacy Find the user names,City mentioned in the top 5000 records and store in list and add another column to list called Entity like if name is name of person then new column should contain \"Person\" if name is name of City then new column should be \"City\"***"
      ]
    },
    {
      "cell_type": "code",
      "metadata": {
        "id": "Hty9pdZ4w2-P",
        "colab_type": "code",
        "colab": {}
      },
      "source": [
        "import spacy as sp\n",
        "import en_core_web_sm"
      ],
      "execution_count": null,
      "outputs": []
    },
    {
      "cell_type": "code",
      "metadata": {
        "id": "hwA7hzhPw6Kv",
        "colab_type": "code",
        "colab": {
          "base_uri": "https://localhost:8080/",
          "height": 34
        },
        "outputId": "cc9b7fc5-7b4d-4592-8be7-e67e360b7a10"
      },
      "source": [
        "sp.prefer_gpu()"
      ],
      "execution_count": null,
      "outputs": [
        {
          "output_type": "execute_result",
          "data": {
            "text/plain": [
              "False"
            ]
          },
          "metadata": {
            "tags": []
          },
          "execution_count": 22
        }
      ]
    },
    {
      "cell_type": "code",
      "metadata": {
        "id": "9iMI-cm6w_VR",
        "colab_type": "code",
        "colab": {}
      },
      "source": [
        "Sp_imdb = en_core_web_sm.load()"
      ],
      "execution_count": null,
      "outputs": []
    },
    {
      "cell_type": "code",
      "metadata": {
        "id": "uFJgb_kWxD1Z",
        "colab_type": "code",
        "colab": {}
      },
      "source": [
        "imdb_csv['review'] = imdb_csv['review'].apply(lambda x: str(x))"
      ],
      "execution_count": null,
      "outputs": []
    },
    {
      "cell_type": "code",
      "metadata": {
        "id": "rtb5TiP4xFdc",
        "colab_type": "code",
        "colab": {
          "base_uri": "https://localhost:8080/",
          "height": 221
        },
        "outputId": "fc74a94e-8397-41b6-8d39-71114186f8ba"
      },
      "source": [
        "imdb_csv['review']"
      ],
      "execution_count": null,
      "outputs": [
        {
          "output_type": "execute_result",
          "data": {
            "text/plain": [
              "0        One of the other reviewers has mentioned that ...\n",
              "1        A wonderful little production The filming tech...\n",
              "2        I thought this was a wonderful way to spend ti...\n",
              "3        Basically there s a family where a little boy ...\n",
              "4        Petter Mattei s Love in the Time of Money is a...\n",
              "                               ...                        \n",
              "49995    I thought this movie did a down right good job...\n",
              "49996    Bad plot bad dialogue bad acting idiotic direc...\n",
              "49997    I am a Catholic taught in parochial elementary...\n",
              "49998    I m going to have to disagree with the previou...\n",
              "49999    No one expects the Star Trek movies to be high...\n",
              "Name: review, Length: 50000, dtype: object"
            ]
          },
          "metadata": {
            "tags": []
          },
          "execution_count": 26
        }
      ]
    },
    {
      "cell_type": "code",
      "metadata": {
        "id": "jMANH5m9xKgF",
        "colab_type": "code",
        "colab": {}
      },
      "source": [
        "#This is working fine for getting entities,but the problem is it is taking too much time and we can't afford that\n",
        "\n",
        "#count = 0 \n",
        "#passed = 0\n",
        "\n",
        "#for i, entity in enumerate(imdb_csv['review'].values):\n",
        "#  try:\n",
        "#    Doc = Sp_imdb(entity)\n",
        "#    for X in Doc.ents:\n",
        "#      if X.label_ == 'GPE':\n",
        "#        count+=1\n",
        "#  except:\n",
        "#    passed +=1\n",
        "#    pass\n",
        "#  if i%5000 == 0: print(i,count,passed)\n",
        "#print(f'Spacy knows {count} out of {imdb_csv.shape[0]}')\n",
        "#print('couldnt process:', passed)"
      ],
      "execution_count": null,
      "outputs": []
    },
    {
      "cell_type": "code",
      "metadata": {
        "id": "HRhMnCRa2yqu",
        "colab_type": "code",
        "colab": {}
      },
      "source": [
        "#Saving the data so that we don't have to process all this again\n",
        "imdb_csv.to_csv(r'/content/IMDB.csv')"
      ],
      "execution_count": null,
      "outputs": []
    },
    {
      "cell_type": "markdown",
      "metadata": {
        "id": "y7RjOfoi5cY9",
        "colab_type": "text"
      },
      "source": [
        "As Spacy is taking alot of time and because i am working on Colab Notebook so completing this process in one go is difficult, So completing that question via NLTK in next part(Assignment (Part B)).\n",
        "\n",
        "Thanks,\n",
        "\n",
        "Neha Kumari."
      ]
    }
  ]
}
