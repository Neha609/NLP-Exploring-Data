{
  "nbformat": 4,
  "nbformat_minor": 0,
  "metadata": {
    "colab": {
      "name": "Sentence Sematics Search.ipynb",
      "provenance": [],
      "collapsed_sections": [],
      "mount_file_id": "1TEIfVEX2mO_URGrrax0bqiwU8UowDAlY",
      "authorship_tag": "ABX9TyPV7+bAaAT4A40eBWMLuN1n",
      "include_colab_link": true
    },
    "kernelspec": {
      "name": "python3",
      "display_name": "Python 3"
    }
  },
  "cells": [
    {
      "cell_type": "markdown",
      "metadata": {
        "id": "view-in-github",
        "colab_type": "text"
      },
      "source": [
        "<a href=\"https://colab.research.google.com/github/Neha609/Natural-Language-Processing-Projects/blob/gh-pages/Sentence_Sematics_Search.ipynb\" target=\"_parent\"><img src=\"https://colab.research.google.com/assets/colab-badge.svg\" alt=\"Open In Colab\"/></a>"
      ]
    },
    {
      "cell_type": "markdown",
      "metadata": {
        "id": "dne8450EPDNB"
      },
      "source": [
        "# **Problem Statement**\n",
        "\n",
        "**About Dataset:** In attached data there are various headlines (Sentences) from various newspapers. \n",
        "\n",
        "**Your task is to build a model that can search the similar sentences from the data set.**\n",
        "\n",
        "for example: \"where are you currently residing?\" is similar to \"what is your address?\"\n",
        "\n",
        "if you pass query = \" where are you currently residing ?\"\n",
        "Your model should be able to return like something below:\n",
        "What is your current address?\n",
        "Can you give me your current address?\n",
        "Please provide me your address.\n",
        "In which city you residing ............... and so on.\n",
        "\n",
        "**The most similar sentence should be on top and follow the order.**"
      ]
    },
    {
      "cell_type": "markdown",
      "metadata": {
        "id": "KE7Nlr4flufO"
      },
      "source": [
        "**1. Loading Dataset from Goggle Drive.**"
      ]
    },
    {
      "cell_type": "code",
      "metadata": {
        "id": "g-uOZWgTO7aJ"
      },
      "source": [
        "#Importing pandas and numpy Library to perform various operation on Dataset\n",
        "import pandas as pd\n",
        "import numpy as np"
      ],
      "execution_count": null,
      "outputs": []
    },
    {
      "cell_type": "code",
      "metadata": {
        "id": "h_fR6YMlRxQG"
      },
      "source": [
        "#Loading csv file by using pandas in a DataFrame from Google Drive\n",
        "News_CSV = pd.read_csv('/content/drive/My Drive/Colab Notebooks/DataSet/news-text.csv')"
      ],
      "execution_count": null,
      "outputs": []
    },
    {
      "cell_type": "markdown",
      "metadata": {
        "id": "O9YA3ABvddG6"
      },
      "source": [
        "**2. Exploring Data for Understanding Features**"
      ]
    },
    {
      "cell_type": "code",
      "metadata": {
        "id": "hujfB540WGcO",
        "outputId": "2ac2f4f7-a9fa-4f0e-dddd-e2bf9bb19597",
        "colab": {
          "base_uri": "https://localhost:8080/",
          "height": 359
        }
      },
      "source": [
        "#Checking top 10 Records of DataFrame\n",
        "News_CSV.head(10)"
      ],
      "execution_count": null,
      "outputs": [
        {
          "output_type": "execute_result",
          "data": {
            "text/html": [
              "<div>\n",
              "<style scoped>\n",
              "    .dataframe tbody tr th:only-of-type {\n",
              "        vertical-align: middle;\n",
              "    }\n",
              "\n",
              "    .dataframe tbody tr th {\n",
              "        vertical-align: top;\n",
              "    }\n",
              "\n",
              "    .dataframe thead th {\n",
              "        text-align: right;\n",
              "    }\n",
              "</style>\n",
              "<table border=\"1\" class=\"dataframe\">\n",
              "  <thead>\n",
              "    <tr style=\"text-align: right;\">\n",
              "      <th></th>\n",
              "      <th>publish_date</th>\n",
              "      <th>headline_text</th>\n",
              "    </tr>\n",
              "  </thead>\n",
              "  <tbody>\n",
              "    <tr>\n",
              "      <th>0</th>\n",
              "      <td>20030219</td>\n",
              "      <td>aba decides against community broadcasting lic...</td>\n",
              "    </tr>\n",
              "    <tr>\n",
              "      <th>1</th>\n",
              "      <td>20030219</td>\n",
              "      <td>act fire witnesses must be aware of defamation</td>\n",
              "    </tr>\n",
              "    <tr>\n",
              "      <th>2</th>\n",
              "      <td>20030219</td>\n",
              "      <td>a g calls for infrastructure protection summit</td>\n",
              "    </tr>\n",
              "    <tr>\n",
              "      <th>3</th>\n",
              "      <td>20030219</td>\n",
              "      <td>air nz staff in aust strike for pay rise</td>\n",
              "    </tr>\n",
              "    <tr>\n",
              "      <th>4</th>\n",
              "      <td>20030219</td>\n",
              "      <td>air nz strike to affect australian travellers</td>\n",
              "    </tr>\n",
              "    <tr>\n",
              "      <th>5</th>\n",
              "      <td>20030219</td>\n",
              "      <td>ambitious olsson wins triple jump</td>\n",
              "    </tr>\n",
              "    <tr>\n",
              "      <th>6</th>\n",
              "      <td>20030219</td>\n",
              "      <td>antic delighted with record breaking barca</td>\n",
              "    </tr>\n",
              "    <tr>\n",
              "      <th>7</th>\n",
              "      <td>20030219</td>\n",
              "      <td>aussie qualifier stosur wastes four memphis match</td>\n",
              "    </tr>\n",
              "    <tr>\n",
              "      <th>8</th>\n",
              "      <td>20030219</td>\n",
              "      <td>aust addresses un security council over iraq</td>\n",
              "    </tr>\n",
              "    <tr>\n",
              "      <th>9</th>\n",
              "      <td>20030219</td>\n",
              "      <td>australia is locked into war timetable opp</td>\n",
              "    </tr>\n",
              "  </tbody>\n",
              "</table>\n",
              "</div>"
            ],
            "text/plain": [
              "   publish_date                                      headline_text\n",
              "0      20030219  aba decides against community broadcasting lic...\n",
              "1      20030219     act fire witnesses must be aware of defamation\n",
              "2      20030219     a g calls for infrastructure protection summit\n",
              "3      20030219           air nz staff in aust strike for pay rise\n",
              "4      20030219      air nz strike to affect australian travellers\n",
              "5      20030219                  ambitious olsson wins triple jump\n",
              "6      20030219         antic delighted with record breaking barca\n",
              "7      20030219  aussie qualifier stosur wastes four memphis match\n",
              "8      20030219       aust addresses un security council over iraq\n",
              "9      20030219         australia is locked into war timetable opp"
            ]
          },
          "metadata": {
            "tags": []
          },
          "execution_count": 7
        }
      ]
    },
    {
      "cell_type": "code",
      "metadata": {
        "id": "ODs_MMcVW0Og",
        "outputId": "025f0857-af65-4e84-96c5-973b61fded4c",
        "colab": {
          "base_uri": "https://localhost:8080/",
          "height": 34
        }
      },
      "source": [
        "#Checking shape of our dataset \n",
        "News_CSV.shape"
      ],
      "execution_count": null,
      "outputs": [
        {
          "output_type": "execute_result",
          "data": {
            "text/plain": [
              "(1186018, 2)"
            ]
          },
          "metadata": {
            "tags": []
          },
          "execution_count": 8
        }
      ]
    },
    {
      "cell_type": "code",
      "metadata": {
        "id": "f_d5bHiZdauT",
        "outputId": "cf291abf-1ef8-4aaa-f22e-258f39942302",
        "colab": {
          "base_uri": "https://localhost:8080/",
          "height": 34
        }
      },
      "source": [
        "#Checking type of our dataset\n",
        "type(News_CSV)"
      ],
      "execution_count": null,
      "outputs": [
        {
          "output_type": "execute_result",
          "data": {
            "text/plain": [
              "pandas.core.frame.DataFrame"
            ]
          },
          "metadata": {
            "tags": []
          },
          "execution_count": 9
        }
      ]
    },
    {
      "cell_type": "code",
      "metadata": {
        "id": "2613mN8utGOA"
      },
      "source": [
        "#Creating copy of our Dataset so that we can change and Modify as per our needs\n",
        "Temp_News_CSV = News_CSV"
      ],
      "execution_count": null,
      "outputs": []
    },
    {
      "cell_type": "code",
      "metadata": {
        "id": "8GkydtQahLi6",
        "outputId": "39587800-c87b-43eb-f568-7caf87db4051",
        "colab": {
          "base_uri": "https://localhost:8080/",
          "height": 204
        }
      },
      "source": [
        "#Now i want to check my data via Year wise,as Year is not visibe in publish_date column so creating another column just for exploring purpose\n",
        "Temp_News_CSV[\"year\"] = Temp_News_CSV[\"publish_date\"].astype(str).str[:4].astype(np.int64)\n",
        "Temp_News_CSV.head()"
      ],
      "execution_count": null,
      "outputs": [
        {
          "output_type": "execute_result",
          "data": {
            "text/html": [
              "<div>\n",
              "<style scoped>\n",
              "    .dataframe tbody tr th:only-of-type {\n",
              "        vertical-align: middle;\n",
              "    }\n",
              "\n",
              "    .dataframe tbody tr th {\n",
              "        vertical-align: top;\n",
              "    }\n",
              "\n",
              "    .dataframe thead th {\n",
              "        text-align: right;\n",
              "    }\n",
              "</style>\n",
              "<table border=\"1\" class=\"dataframe\">\n",
              "  <thead>\n",
              "    <tr style=\"text-align: right;\">\n",
              "      <th></th>\n",
              "      <th>publish_date</th>\n",
              "      <th>headline_text</th>\n",
              "      <th>year</th>\n",
              "    </tr>\n",
              "  </thead>\n",
              "  <tbody>\n",
              "    <tr>\n",
              "      <th>0</th>\n",
              "      <td>20030219</td>\n",
              "      <td>aba decides against community broadcasting lic...</td>\n",
              "      <td>2003</td>\n",
              "    </tr>\n",
              "    <tr>\n",
              "      <th>1</th>\n",
              "      <td>20030219</td>\n",
              "      <td>act fire witnesses must be aware of defamation</td>\n",
              "      <td>2003</td>\n",
              "    </tr>\n",
              "    <tr>\n",
              "      <th>2</th>\n",
              "      <td>20030219</td>\n",
              "      <td>a g calls for infrastructure protection summit</td>\n",
              "      <td>2003</td>\n",
              "    </tr>\n",
              "    <tr>\n",
              "      <th>3</th>\n",
              "      <td>20030219</td>\n",
              "      <td>air nz staff in aust strike for pay rise</td>\n",
              "      <td>2003</td>\n",
              "    </tr>\n",
              "    <tr>\n",
              "      <th>4</th>\n",
              "      <td>20030219</td>\n",
              "      <td>air nz strike to affect australian travellers</td>\n",
              "      <td>2003</td>\n",
              "    </tr>\n",
              "  </tbody>\n",
              "</table>\n",
              "</div>"
            ],
            "text/plain": [
              "   publish_date                                      headline_text  year\n",
              "0      20030219  aba decides against community broadcasting lic...  2003\n",
              "1      20030219     act fire witnesses must be aware of defamation  2003\n",
              "2      20030219     a g calls for infrastructure protection summit  2003\n",
              "3      20030219           air nz staff in aust strike for pay rise  2003\n",
              "4      20030219      air nz strike to affect australian travellers  2003"
            ]
          },
          "metadata": {
            "tags": []
          },
          "execution_count": 25
        }
      ]
    },
    {
      "cell_type": "code",
      "metadata": {
        "id": "9u5Md1Z3jCJF",
        "outputId": "ec8aa578-0d95-4fa0-80b9-f1ec1d709b13",
        "colab": {
          "base_uri": "https://localhost:8080/",
          "height": 51
        }
      },
      "source": [
        "#Now making sure all Years are correct\n",
        "Temp_News_CSV.year.unique()"
      ],
      "execution_count": null,
      "outputs": [
        {
          "output_type": "execute_result",
          "data": {
            "text/plain": [
              "array([2003, 2004, 2005, 2006, 2007, 2008, 2009, 2010, 2011, 2012, 2013,\n",
              "       2014, 2015, 2016, 2017, 2018, 2019])"
            ]
          },
          "metadata": {
            "tags": []
          },
          "execution_count": 26
        }
      ]
    },
    {
      "cell_type": "code",
      "metadata": {
        "id": "7RRM5zCBjS9X",
        "outputId": "5b748aec-a977-4031-f0d5-25653a814172",
        "colab": {
          "base_uri": "https://localhost:8080/",
          "height": 312
        }
      },
      "source": [
        "#Now i want to check for every Year how many articles are present in my dataset,Let's check it via using below plot\n",
        "%matplotlib inline\n",
        "\n",
        "import matplotlib.pyplot as plt\n",
        "import seaborn as sns\n",
        "\n",
        "with sns.color_palette(\"GnBu_d\", 10):\n",
        "    ax= sns.countplot(y=\"year\",data=Temp_News_CSV)\n",
        "    ax.set(xlabel='Number of Articles', ylabel='Year')\n",
        "plt.title(\"Number of Articles per Year\")\n"
      ],
      "execution_count": null,
      "outputs": [
        {
          "output_type": "execute_result",
          "data": {
            "text/plain": [
              "Text(0.5, 1.0, 'Number of Articles per Year')"
            ]
          },
          "metadata": {
            "tags": []
          },
          "execution_count": 27
        },
        {
          "output_type": "display_data",
          "data": {
            "image/png": "[encoded data removed]",
            "text/plain": [
              "<Figure size 432x288 with 1 Axes>"
            ]
          },
          "metadata": {
            "tags": [],
            "needs_background": "light"
          }
        }
      ]
    },
    {
      "cell_type": "markdown",
      "metadata": {
        "id": "644bYyU1l63l"
      },
      "source": [
        "**3. Performing Sentence Embeddings**"
      ]
    },
    {
      "cell_type": "markdown",
      "metadata": {
        "id": "Qa-X6vsupS_B"
      },
      "source": [
        "Installing required packages and libraries which provide facility to create senetence embeddings directly from your data."
      ]
    },
    {
      "cell_type": "code",
      "metadata": {
        "id": "VF4oS_C4OUyw",
        "outputId": "c2e41d9a-5373-42d7-c7b4-55edea17f5ad",
        "colab": {
          "base_uri": "https://localhost:8080/",
          "height": 802
        }
      },
      "source": [
        "pip install -U sentence-transformers"
      ],
      "execution_count": null,
      "outputs": [
        {
          "output_type": "stream",
          "text": [
            "Collecting sentence-transformers\n",
            "\u001b[?25l  Downloading https://files.pythonhosted.org/packages/ce/4b/0add07b1eebbbe83e77fb5ac4e72e87046c3fc2c9cb16f7d1cd8c6921a1d/sentence-transformers-0.3.7.2.tar.gz (59kB)\n",
            "\u001b[K     |████████████████████████████████| 61kB 1.7MB/s \n",
            "\u001b[?25hCollecting transformers<3.4.0,>=3.1.0\n",
            "\u001b[?25l  Downloading https://files.pythonhosted.org/packages/19/22/aff234f4a841f8999e68a7a94bdd4b60b4cebcfeca5d67d61cd08c9179de/transformers-3.3.1-py3-none-any.whl (1.1MB)\n",
            "\u001b[K     |████████████████████████████████| 1.1MB 4.2MB/s \n",
            "\u001b[?25hRequirement already satisfied, skipping upgrade: tqdm in /usr/local/lib/python3.6/dist-packages (from sentence-transformers) (4.41.1)\n",
            "Requirement already satisfied, skipping upgrade: torch>=1.2.0 in /usr/local/lib/python3.6/dist-packages (from sentence-transformers) (1.6.0+cu101)\n",
            "Requirement already satisfied, skipping upgrade: numpy in /usr/local/lib/python3.6/dist-packages (from sentence-transformers) (1.18.5)\n",
            "Requirement already satisfied, skipping upgrade: scikit-learn in /usr/local/lib/python3.6/dist-packages (from sentence-transformers) (0.22.2.post1)\n",
            "Requirement already satisfied, skipping upgrade: scipy in /usr/local/lib/python3.6/dist-packages (from sentence-transformers) (1.4.1)\n",
            "Requirement already satisfied, skipping upgrade: nltk in /usr/local/lib/python3.6/dist-packages (from sentence-transformers) (3.2.5)\n",
            "Requirement already satisfied, skipping upgrade: regex!=2019.12.17 in /usr/local/lib/python3.6/dist-packages (from transformers<3.4.0,>=3.1.0->sentence-transformers) (2019.12.20)\n",
            "Requirement already satisfied, skipping upgrade: packaging in /usr/local/lib/python3.6/dist-packages (from transformers<3.4.0,>=3.1.0->sentence-transformers) (20.4)\n",
            "Requirement already satisfied, skipping upgrade: requests in /usr/local/lib/python3.6/dist-packages (from transformers<3.4.0,>=3.1.0->sentence-transformers) (2.23.0)\n",
            "Requirement already satisfied, skipping upgrade: dataclasses; python_version < \"3.7\" in /usr/local/lib/python3.6/dist-packages (from transformers<3.4.0,>=3.1.0->sentence-transformers) (0.7)\n",
            "Requirement already satisfied, skipping upgrade: filelock in /usr/local/lib/python3.6/dist-packages (from transformers<3.4.0,>=3.1.0->sentence-transformers) (3.0.12)\n",
            "Collecting tokenizers==0.8.1.rc2\n",
            "\u001b[?25l  Downloading https://files.pythonhosted.org/packages/80/83/8b9fccb9e48eeb575ee19179e2bdde0ee9a1904f97de5f02d19016b8804f/tokenizers-0.8.1rc2-cp36-cp36m-manylinux1_x86_64.whl (3.0MB)\n",
            "\u001b[K     |████████████████████████████████| 3.0MB 8.3MB/s \n",
            "\u001b[?25hCollecting sentencepiece!=0.1.92\n",
            "\u001b[?25l  Downloading https://files.pythonhosted.org/packages/d4/a4/d0a884c4300004a78cca907a6ff9a5e9fe4f090f5d95ab341c53d28cbc58/sentencepiece-0.1.91-cp36-cp36m-manylinux1_x86_64.whl (1.1MB)\n",
            "\u001b[K     |████████████████████████████████| 1.1MB 15.2MB/s \n",
            "\u001b[?25hCollecting sacremoses\n",
            "\u001b[?25l  Downloading https://files.pythonhosted.org/packages/7d/34/09d19aff26edcc8eb2a01bed8e98f13a1537005d31e95233fd48216eed10/sacremoses-0.0.43.tar.gz (883kB)\n",
            "\u001b[K     |████████████████████████████████| 890kB 13.3MB/s \n",
            "\u001b[?25hRequirement already satisfied, skipping upgrade: future in /usr/local/lib/python3.6/dist-packages (from torch>=1.2.0->sentence-transformers) (0.16.0)\n",
            "Requirement already satisfied, skipping upgrade: joblib>=0.11 in /usr/local/lib/python3.6/dist-packages (from scikit-learn->sentence-transformers) (0.16.0)\n",
            "Requirement already satisfied, skipping upgrade: six in /usr/local/lib/python3.6/dist-packages (from nltk->sentence-transformers) (1.15.0)\n",
            "Requirement already satisfied, skipping upgrade: pyparsing>=2.0.2 in /usr/local/lib/python3.6/dist-packages (from packaging->transformers<3.4.0,>=3.1.0->sentence-transformers) (2.4.7)\n",
            "Requirement already satisfied, skipping upgrade: idna<3,>=2.5 in /usr/local/lib/python3.6/dist-packages (from requests->transformers<3.4.0,>=3.1.0->sentence-transformers) (2.10)\n",
            "Requirement already satisfied, skipping upgrade: certifi>=2017.4.17 in /usr/local/lib/python3.6/dist-packages (from requests->transformers<3.4.0,>=3.1.0->sentence-transformers) (2020.6.20)\n",
            "Requirement already satisfied, skipping upgrade: urllib3!=1.25.0,!=1.25.1,<1.26,>=1.21.1 in /usr/local/lib/python3.6/dist-packages (from requests->transformers<3.4.0,>=3.1.0->sentence-transformers) (1.24.3)\n",
            "Requirement already satisfied, skipping upgrade: chardet<4,>=3.0.2 in /usr/local/lib/python3.6/dist-packages (from requests->transformers<3.4.0,>=3.1.0->sentence-transformers) (3.0.4)\n",
            "Requirement already satisfied, skipping upgrade: click in /usr/local/lib/python3.6/dist-packages (from sacremoses->transformers<3.4.0,>=3.1.0->sentence-transformers) (7.1.2)\n",
            "Building wheels for collected packages: sentence-transformers, sacremoses\n",
            "  Building wheel for sentence-transformers (setup.py) ... \u001b[?25l\u001b[?25hdone\n",
            "  Created wheel for sentence-transformers: filename=sentence_transformers-0.3.7.2-cp36-none-any.whl size=91190 sha256=3af09cc807e5e5ed4da9beaf0f4511c0fbc1d12b833eb1abc7054b9c1b5528e8\n",
            "  Stored in directory: /root/.cache/pip/wheels/4b/8f/23/7f93e91176acc7c2d651b54fa9f01e3624a47904145c4d133e\n",
            "  Building wheel for sacremoses (setup.py) ... \u001b[?25l\u001b[?25hdone\n",
            "  Created wheel for sacremoses: filename=sacremoses-0.0.43-cp36-none-any.whl size=893257 sha256=5930869cdab550155d4828452b01649914caad333779229461b1cb63bd686492\n",
            "  Stored in directory: /root/.cache/pip/wheels/29/3c/fd/7ce5c3f0666dab31a50123635e6fb5e19ceb42ce38d4e58f45\n",
            "Successfully built sentence-transformers sacremoses\n",
            "Installing collected packages: tokenizers, sentencepiece, sacremoses, transformers, sentence-transformers\n",
            "Successfully installed sacremoses-0.0.43 sentence-transformers-0.3.7.2 sentencepiece-0.1.91 tokenizers-0.8.1rc2 transformers-3.3.1\n"
          ],
          "name": "stdout"
        }
      ]
    },
    {
      "cell_type": "code",
      "metadata": {
        "id": "7r1JQ3BiW63W"
      },
      "source": [
        "#Importing installed library\n",
        "from sentence_transformers import SentenceTransformer"
      ],
      "execution_count": null,
      "outputs": []
    },
    {
      "cell_type": "code",
      "metadata": {
        "id": "MVNzHyxcNmnd",
        "outputId": "0bb36788-e185-48d2-c6f0-1134abbf5609",
        "colab": {
          "base_uri": "https://localhost:8080/",
          "height": 34
        }
      },
      "source": [
        "#Initializing model \n",
        "model = SentenceTransformer('distilbert-base-nli-mean-tokens')"
      ],
      "execution_count": null,
      "outputs": [
        {
          "output_type": "stream",
          "text": [
            "100%|██████████| 245M/245M [00:12<00:00, 19.1MB/s]\n"
          ],
          "name": "stderr"
        }
      ]
    },
    {
      "cell_type": "markdown",
      "metadata": {
        "id": "dxAxWpVvqIiw"
      },
      "source": [
        "**This framework provides an easy method to compute dense vector representations for sentences and paragraphs (also known as sentence embeddings). The models are based on transformer networks like BERT / RoBERTa / XLM-RoBERTa etc. and are tuned specificially meaningul sentence embeddings such that sentences with similar meanings are close in vector space.**\n",
        "\n",
        "This particular solution can also be developed by using pre trained model of Google name **word2vec**. \n",
        "\n"
      ]
    },
    {
      "cell_type": "code",
      "metadata": {
        "id": "3QvUkVfhOzyj"
      },
      "source": [
        "#Just a small example how it works\n",
        "sentences = ['This framework generates embeddings for each input sentence',\n",
        "    'Sentences are passed as a list of string.', \n",
        "    'The quick brown fox jumps over the lazy dog.']\n",
        "sentence_embeddings = model.encode(sentences)"
      ],
      "execution_count": null,
      "outputs": []
    },
    {
      "cell_type": "code",
      "metadata": {
        "id": "0VqdyWlEO39Y",
        "outputId": "ba0ed988-7ab5-4c90-f82a-e0a01214d73b",
        "colab": {
          "base_uri": "https://localhost:8080/",
          "height": 1000
        }
      },
      "source": [
        "#Let's view the results generated by model\n",
        "for sentence, embedding in zip(sentences, sentence_embeddings):\n",
        "    print(\"Sentence:\", sentence)\n",
        "    print(\"Embedding:\", embedding)\n",
        "    print(\"\")"
      ],
      "execution_count": null,
      "outputs": [
        {
          "output_type": "stream",
          "text": [
            "Sentence: This framework generates embeddings for each input sentence\n",
            "Embedding: [-4.99964029e-01  2.00929224e-01  4.79733139e-01 -5.45872487e-02\n",
            " -3.20265412e-01 -1.18349835e-01  1.19828176e+00  6.53362125e-02\n",
            "  2.56168783e-01 -6.80206418e-01 -2.65210181e-01  9.71703082e-02\n",
            " -2.19010562e-01 -4.23998982e-01 -1.44664207e-02 -2.27257952e-01\n",
            " -3.66329372e-01  4.29634675e-02 -2.45088339e-01 -1.15445745e+00\n",
            "  1.01486623e+00 -4.86819208e-01 -3.97846997e-01  1.33469415e+00\n",
            "  7.27640748e-01 -2.61948287e-01  9.74692225e-01  3.20754200e-01\n",
            "  9.10782516e-02 -1.66287914e-01 -1.71081334e-01 -2.45369092e-01\n",
            " -2.78276563e-01  5.85470438e-01  2.47853994e-01 -5.16083360e-01\n",
            "  8.40410769e-01 -1.11888134e+00 -1.02041578e+00 -2.46360078e-01\n",
            "  3.75287533e-01 -4.89004552e-01  5.48438132e-01 -1.94786385e-01\n",
            " -3.49307030e-01  1.85087901e-02 -3.58535722e-02  3.46165925e-01\n",
            " -1.75415850e+00 -3.57942134e-01 -1.20965242e+00  2.49583617e-01\n",
            "  7.49337852e-01 -3.55312467e-01 -5.63870370e-01 -8.27803910e-02\n",
            "  2.31488332e-01 -1.78824589e-01  4.12197292e-01 -1.46989658e-01\n",
            " -2.26359710e-01  3.23281765e-01  6.42507225e-02 -7.05880165e-01\n",
            "  4.99998599e-01  3.18826407e-01  9.43686545e-01  3.07148576e-01\n",
            " -3.91034812e-01 -1.17718494e+00 -4.21327144e-01 -7.60000110e-01\n",
            " -9.86805558e-01 -1.35412085e+00 -8.76757979e-01  2.71794677e-01\n",
            " -3.59914422e-01  2.72361785e-01  7.34402955e-01  6.44726008e-02\n",
            " -1.15259194e+00 -4.80740875e-01 -4.29869294e-01  6.50642157e-01\n",
            "  6.50746703e-01 -1.13500988e+00 -2.61890829e-01 -5.98040819e-01\n",
            " -2.76979417e-01  1.30310905e+00  4.32956189e-01 -9.36005831e-01\n",
            " -6.32175326e-01  3.83650512e-01 -7.76206732e-01 -6.62332892e-01\n",
            " -1.26840249e-01 -6.27250314e-01 -4.31833237e-01  7.68396378e-01\n",
            " -4.86060739e-01 -8.71730804e-01  9.68557775e-01  6.88506782e-01\n",
            "  8.25508535e-02  9.33547080e-01  2.62506396e-01 -1.90245256e-01\n",
            "  3.84855241e-01 -2.62863040e-01 -4.45310533e-01 -1.39958560e+00\n",
            " -2.85308331e-01  4.60302800e-01  1.56502649e-01  1.52543247e-01\n",
            " -5.81415772e-01 -2.98920095e-01 -8.94136667e-01 -1.95396721e-01\n",
            " -1.24277687e+00  1.78031600e+00  6.30508184e-01  4.12517041e-01\n",
            "  3.49445641e-01  6.86107650e-02  4.94554847e-01  1.26793849e+00\n",
            " -3.96416783e-02 -1.36491382e+00  3.31780165e-01 -5.09388387e-01\n",
            "  2.16735661e-01 -6.85469270e-01  3.49230580e-02 -5.13305545e-01\n",
            " -3.61365713e-02  2.98454940e-01 -6.73799276e-01  6.90510094e-01\n",
            "  5.98352849e-01  8.83467734e-01  1.18356681e+00 -7.04689026e-01\n",
            "  1.17748713e+00  2.52463579e-01  3.89556259e-01 -5.43261528e-01\n",
            " -5.69885194e-01 -2.27322415e-01 -6.96844935e-01  1.95947006e-01\n",
            "  2.47545317e-01 -5.95506728e-01  7.71599174e-01 -3.87814403e-01\n",
            " -8.17147613e-01 -2.60963112e-01 -2.58198947e-01  1.39773741e-01\n",
            " -5.34492970e-01  2.80972928e-01  6.40108824e-01  8.48451734e-01\n",
            " -9.79785085e-01  7.74913132e-01 -7.37573624e-01  2.12082684e-01\n",
            " -4.86941308e-01  1.74786314e-01  6.35793567e-01  6.82751358e-01\n",
            "  5.09316087e-01  2.18046650e-01 -2.57838100e-01 -2.88070261e-01\n",
            " -9.37537774e-02 -5.87869227e-01 -5.62344730e-01  3.67691457e-01\n",
            "  5.60732782e-01 -4.23028320e-02  1.35272881e-02  1.85613856e-01\n",
            "  1.84723794e-01  4.71136540e-01 -2.48857457e-02 -3.14044774e-01\n",
            "  2.80918896e-01 -7.28056505e-02  1.32878214e-01  5.55685878e-01\n",
            " -3.15956861e-01  7.78881013e-02  6.37310684e-01  3.57885212e-01\n",
            " -1.42881766e-01  8.40057790e-01  4.50721309e-02 -3.20775241e-01\n",
            "  9.79619980e-01  4.73323651e-02  3.33540112e-01 -1.56067148e-01\n",
            " -1.22126237e-01 -2.05716759e-01 -2.92794168e-01 -8.26354325e-02\n",
            " -4.81628120e-01  1.55168802e-01 -3.14260930e-01  6.96552575e-01\n",
            " -6.51749194e-01 -8.87906194e-01 -3.03223997e-01  1.12688541e+00\n",
            " -2.65124291e-01  5.54830015e-01  9.36907351e-01 -3.70197088e-01\n",
            "  1.26743889e+00 -6.02587163e-01  5.43154001e-01 -6.84496224e-01\n",
            " -1.18032551e+00 -1.84875965e-01  2.86420226e-01  6.62880361e-01\n",
            "  1.20126653e+00  7.60346726e-02  6.11468181e-02  3.55632812e-01\n",
            " -4.08200920e-01  2.62964189e-01 -3.97791892e-01  1.64148867e-01\n",
            " -9.73826349e-01 -7.45347857e-01 -3.14387918e-01 -1.12184179e+00\n",
            "  9.22373533e-01  8.49490821e-01 -8.68801415e-01 -6.01374090e-01\n",
            "  3.90471995e-01  5.82936943e-01 -1.20100331e+00  2.55537003e-01\n",
            "  8.36974204e-01 -2.72552401e-01  1.49683142e+00 -8.97032320e-01\n",
            " -7.96015680e-01 -4.29262370e-01  3.64408016e-01 -2.77805328e-01\n",
            " -2.80757517e-01 -3.58959347e-01  2.21141260e-02  6.13188803e-01\n",
            " -1.86552286e-01 -4.51103181e-01  9.02016342e-01  6.30397677e-01\n",
            " -1.64257795e-01 -1.99646115e+00 -1.01939476e+00  3.44063878e-01\n",
            "  1.01768538e-01  3.13553452e-01 -3.62959355e-02  6.97909117e-01\n",
            "  5.35491884e-01  1.18237853e-01 -1.84532002e-01 -4.25179541e-01\n",
            "  9.86777828e-04  1.84397087e-01 -1.10998958e-01  1.45106047e-01\n",
            " -9.20688212e-01 -1.15209186e+00  4.87095714e-01 -3.69249463e-01\n",
            "  1.09728062e+00 -3.19310129e-01 -2.72889584e-01 -1.66714883e+00\n",
            "  2.55271465e-01 -3.99920970e-01  1.18229544e+00  7.69837737e-01\n",
            " -7.22126365e-01  9.47163582e-01  1.11837184e+00 -2.63184279e-01\n",
            "  5.21304846e-01  6.86102986e-01 -1.21219873e+00  4.52586822e-02\n",
            "  3.61250937e-01 -3.32362860e-01 -3.72602910e-01  7.64275789e-01\n",
            " -9.55769420e-01  8.28818083e-01  2.10485056e-01 -4.67602104e-01\n",
            "  1.79676756e-01 -2.67124146e-01 -1.93231478e-02  4.20168251e-01\n",
            " -1.69101894e-01  4.84127522e-01  5.09730220e-01  8.29673931e-02\n",
            "  1.60831183e-01 -1.36781573e-01 -9.85863626e-01 -6.07226491e-01\n",
            " -3.65364254e-01  1.04754317e+00 -2.26338565e-01 -2.52892852e-01\n",
            " -1.60332084e+00  3.93061340e-01  4.33812328e-02  4.96141970e-01\n",
            " -4.01505262e-01 -9.50255394e-01  9.88693118e-01 -7.52988383e-02\n",
            "  4.72228080e-02 -6.86487615e-01 -1.54849127e-01  5.28863311e-01\n",
            " -1.06886983e+00 -2.62068480e-01 -3.40595573e-01 -1.61835447e-01\n",
            " -2.78582275e-01  5.10945201e-01 -1.23962082e-01  3.92076343e-01\n",
            "  8.77445340e-01 -5.52225769e-01 -5.84648907e-01 -7.52436399e-01\n",
            "  7.36245394e-01  2.65826285e-01 -2.10391894e-01 -1.21856727e-01\n",
            " -8.41803756e-03 -7.95521662e-02  7.48280764e-01 -4.78380740e-01\n",
            " -7.21949220e-01 -1.80974573e-01  1.10082828e-01  1.02524281e+00\n",
            "  1.46309987e-01  9.31737959e-01  6.24805987e-01 -9.32058170e-02\n",
            "  1.43083349e-01 -4.33502078e-01 -9.57456589e-01  2.76322424e-01\n",
            "  9.40787196e-01 -6.17531776e-01  1.12986758e-01  1.07814550e-01\n",
            "  2.69554198e-01 -4.97533053e-01 -6.06936753e-01 -4.08676192e-02\n",
            " -4.19788897e-01  6.30244970e-01 -1.29855834e-02  3.82564962e-02\n",
            "  5.29947616e-02 -1.68356411e-02  2.61203408e-01 -6.40600324e-01\n",
            "  4.89828944e-01  1.07731923e-01  7.96666086e-01 -5.76769352e-01\n",
            " -1.38755545e-01 -1.31054565e-01 -1.71538532e-01  3.18217427e-01\n",
            "  7.15733409e-01 -9.67414439e-01 -1.65755510e-01 -6.26520276e-01\n",
            " -1.50587571e+00  2.74192214e-01 -5.71479380e-01 -5.45636415e-01\n",
            "  6.22488633e-02  1.28163829e-01 -2.51161993e-01 -1.84281677e-01\n",
            "  4.23196942e-01 -4.65754718e-01  2.90980246e-02 -2.12864548e-01\n",
            "  1.10075939e+00 -4.08334881e-01 -4.17987466e-01 -4.06504095e-01\n",
            "  3.56803387e-01  2.10373536e-01 -1.33595169e+00 -5.55646241e-01\n",
            "  5.76115668e-01  4.62630481e-01 -9.23924387e-01  3.77040714e-01\n",
            " -3.72781426e-01  6.48616076e-01 -1.12090313e+00  3.54169637e-01\n",
            " -5.73907018e-01  3.31733748e-02 -5.91157265e-02 -8.49837586e-02\n",
            "  1.87024340e-01  3.84427279e-01 -3.33156288e-01 -7.41352499e-01\n",
            " -1.66502762e+00 -1.37987733e-01  7.58369148e-01 -8.13675225e-01\n",
            " -2.69383371e-01 -5.84763587e-01 -7.10666716e-01 -1.12472463e+00\n",
            " -1.11221659e+00 -8.97558555e-02  2.63934344e-01  4.68449622e-01\n",
            " -5.79575121e-01  7.90311217e-01  9.87869576e-02 -9.79180634e-03\n",
            "  6.03978515e-01 -1.22612953e-01  4.90009248e-01 -1.67540610e-01\n",
            "  8.29599798e-02  4.90374684e-01  4.06338630e-04  6.61835134e-01\n",
            " -1.62537444e+00  9.66121137e-01 -7.53039420e-01  7.17309594e-01\n",
            " -4.28672582e-01 -5.60282111e-01 -6.63753450e-01  6.66463375e-02\n",
            " -4.69106048e-01  1.57458156e-01  1.21996772e+00  1.38171529e-02\n",
            "  5.86686194e-01  6.78004205e-01  5.38454875e-02 -1.06391117e-01\n",
            "  1.41325479e-04  1.00814688e+00 -1.80614248e-01  5.01566708e-01\n",
            " -9.98332445e-03 -1.27984792e-01 -2.71213472e-01 -1.78012460e-01\n",
            " -6.48619711e-01 -5.51629305e-01 -6.28932357e-01 -9.10851881e-02\n",
            "  9.06402886e-01  1.19155541e-01  4.18664468e-03  2.78588146e-01\n",
            "  5.74835420e-01 -5.71881056e-01 -3.32269609e-01  7.15905905e-01\n",
            " -6.70492768e-01  1.37260139e+00  4.42144096e-01  1.02510190e+00\n",
            "  2.13149890e-01 -5.06963581e-02 -2.68111646e-01  3.75289023e-01\n",
            " -1.54507846e-01 -1.32870495e+00 -1.34673929e+00 -4.07463580e-01\n",
            "  6.12812579e-01  2.94952661e-01 -3.59390467e-01 -1.47948354e-01\n",
            "  4.09417450e-01 -4.03691590e-01 -1.96587086e-01 -1.55063063e-01\n",
            "  3.48560750e-01 -2.78127521e-01  1.19189215e+00 -5.57265460e-01\n",
            "  5.13557531e-03 -5.94897807e-01  7.57720113e-01 -2.07614109e-01\n",
            " -5.25614440e-01  8.25038373e-01  4.05181080e-01  2.99512476e-01\n",
            "  2.10506216e-01  1.95376426e-01 -1.41739666e-01 -6.39549017e-01\n",
            " -2.95558393e-01  1.71654612e-01  1.25601089e+00  8.58560503e-02\n",
            " -9.00601029e-01  3.07046771e-01  1.50264814e-01  5.56207597e-01\n",
            " -2.86553174e-01 -2.14264929e-01  1.18772101e+00  9.51270044e-01\n",
            "  5.63651994e-02  5.34579856e-03 -6.56720757e-01  2.25583300e-01\n",
            " -1.49996924e+00 -1.76769805e+00 -5.85494995e-01  2.55153745e-01\n",
            " -7.17089891e-01  1.90142453e-01 -3.51182431e-01 -3.63684714e-01\n",
            " -1.05938160e+00  1.79886267e-01 -5.89018464e-01  3.96238506e-01\n",
            " -4.63947147e-01 -6.59011126e-01  3.03202599e-01  2.45418530e-02\n",
            " -6.28296733e-01  6.12203002e-01 -2.72426069e-01  9.32069063e-01\n",
            " -2.61319101e-01 -1.00185335e+00  3.91950868e-02 -6.69133782e-01\n",
            "  3.24683748e-02  4.21058834e-01  2.73919731e-01 -1.47298500e-01\n",
            "  6.36379361e-01  3.83360416e-01 -3.64795178e-01  2.68076599e-01\n",
            "  3.91734540e-01 -2.44758219e-01 -7.84283042e-01  1.43149272e-01\n",
            "  2.52090633e-01  3.84316176e-01  3.31427902e-01 -5.52021146e-01\n",
            "  5.72313845e-01  2.80098230e-01  3.15130740e-01 -3.24496210e-01\n",
            " -2.02554777e-01  2.47232854e-01 -7.23502576e-01 -2.39921272e-01\n",
            " -1.00044757e-01 -1.86229367e-02 -6.41490221e-01 -4.96439561e-02\n",
            "  6.65399134e-01  2.90673703e-01 -7.14793444e-01  1.79376543e-01\n",
            "  1.01989824e-02 -8.22227895e-02 -5.63867509e-01  8.28062773e-01\n",
            "  3.84133339e-01 -8.71770442e-01  8.51204038e-01  1.73509032e-01\n",
            "  2.50078171e-01  1.54245019e+00  6.48825943e-01 -7.18207434e-02\n",
            "  3.10212299e-02  1.06322706e+00  8.11670065e-01 -5.78580439e-01\n",
            " -1.52698547e-01  2.05959722e-01  2.91168272e-01 -2.98856422e-02\n",
            " -1.35617554e-01 -5.91348112e-01 -2.24931717e-01 -8.90259504e-01\n",
            "  1.02146780e+00 -7.11799502e-01  2.39301454e-02 -1.42855227e-01\n",
            "  1.19871814e-02  6.27765715e-01  8.86530504e-02  3.63125280e-02\n",
            " -1.46012753e-01  1.88467705e+00 -7.71023810e-01 -9.62067306e-01\n",
            " -1.59471720e-01 -1.63271412e-01 -4.30282652e-01 -7.46745765e-02\n",
            "  5.52486956e-01 -4.53814834e-01 -4.24622819e-02 -9.59284782e-01\n",
            " -7.13017702e-01 -1.32210582e-01 -9.45473433e-01  1.32191613e-01\n",
            "  3.75746861e-02  8.34367096e-01  9.45792496e-02  3.23296815e-01\n",
            "  1.61223754e-01 -3.44271541e-01 -6.71236694e-01 -8.00631866e-02\n",
            "  8.48126113e-01  8.40604365e-01  1.08448291e+00  9.35988009e-01\n",
            " -8.32773924e-01  1.10533929e+00 -3.73858333e-01 -1.17224300e+00\n",
            "  1.05110335e+00  5.00665963e-01  4.10319626e-01  8.73497605e-01\n",
            " -5.67030549e-01 -2.67572105e-01  5.16413391e-01  5.51645339e-01\n",
            " -5.13343990e-01  6.65880442e-02  3.38220060e-01  2.80374825e-01\n",
            "  8.13713372e-01  1.30942330e-01  2.07637846e-01  8.44391465e-01\n",
            "  3.40962052e-01  9.11151350e-01 -4.28582072e-01 -5.29550195e-01\n",
            " -9.52462256e-01 -2.95084924e-01 -5.56077957e-01  6.38967872e-01\n",
            " -1.52134210e-01 -6.09798491e-01 -6.54971778e-01  2.41203621e-01\n",
            "  3.31926048e-01 -2.57297754e-02 -7.83696771e-01  9.49620828e-02\n",
            "  3.45518738e-02  7.50338197e-01 -6.62894309e-01  1.17335820e+00\n",
            "  1.35681137e-01 -2.14731768e-01 -4.54257280e-01 -1.20774007e+00\n",
            " -5.84337652e-01  9.98687863e-01  3.76730174e-01  1.19880605e+00\n",
            "  2.43131667e-01 -1.59857345e+00  9.60965514e-01  7.91357905e-02\n",
            " -2.64478952e-01  4.54423547e-01 -6.56001627e-01  2.63512373e-01\n",
            "  5.13066864e-03  3.31565924e-02  6.15929604e-01  3.57099324e-02\n",
            " -9.66210663e-01 -6.23066664e-01  3.66064817e-01 -3.42121065e-01\n",
            "  1.04778394e-01  5.59885025e-01  2.43735775e-01 -5.34302592e-01\n",
            "  6.72903776e-01  1.69344440e-01 -5.62512517e-01  3.39274287e-01\n",
            " -1.83547348e-01  5.30439138e-01  6.11534894e-01  2.01128185e-01\n",
            " -1.49884477e-01  5.87994121e-02  2.90479928e-01  4.88791287e-01\n",
            "  3.15753341e-01  4.18191761e-01 -7.23861828e-02  9.30504143e-01\n",
            " -1.85860485e-01 -2.98174202e-01 -7.03313887e-01 -1.44634187e-01\n",
            " -5.69371581e-01  1.22777805e-01  6.52545691e-01 -1.22141346e-01\n",
            " -1.81467161e-01 -3.14015239e-01 -1.37380809e-01  2.44805470e-01\n",
            " -1.05488896e+00 -6.62392497e-01 -4.80297625e-01 -2.67540812e-01\n",
            "  3.62773538e-01  1.28059492e-01 -4.56662506e-01 -1.54014036e-01\n",
            "  2.12197676e-02 -2.00059667e-01 -6.36263609e-01  2.15278074e-01]\n",
            "\n",
            "Sentence: Sentences are passed as a list of string.\n",
            "Embedding: [-6.92340732e-01 -3.53981465e-01  1.84974924e-01 -2.07049586e-02\n",
            " -2.03944921e-01 -7.19294488e-01  5.48792779e-01 -4.46988493e-01\n",
            " -9.99511480e-01  6.36783659e-01  4.65108268e-02  5.38847685e-01\n",
            " -4.05740827e-01 -6.71178877e-01  1.22190073e-01 -6.33446202e-02\n",
            "  4.46305364e-01 -2.31389523e-01 -1.90940991e-01 -6.56177402e-01\n",
            "  9.15101588e-01  3.28583539e-01 -4.27416354e-01  7.54565477e-01\n",
            "  5.91392554e-02  7.58159459e-02  6.77084625e-01 -2.34731004e-01\n",
            "  1.21439211e-02  1.87694371e-01  4.81841773e-01  5.85827291e-01\n",
            "  6.24204762e-02  6.26385033e-01  2.42637888e-01 -6.03160441e-01\n",
            "  9.77645695e-01 -6.82561517e-01  6.05376244e-01 -1.03662956e+00\n",
            "  6.39706671e-01 -5.83490692e-02  5.27045168e-02 -9.36984956e-01\n",
            "  4.03374992e-03  2.87489668e-02 -5.82117915e-01 -7.17466846e-02\n",
            " -1.38816249e+00 -7.84805655e-01 -1.40454710e+00  5.81237078e-01\n",
            "  1.57082593e+00 -9.55691934e-01 -7.32023597e-01 -7.58705497e-01\n",
            "  1.63503900e-01 -2.97626257e-01  7.55100071e-01 -2.14332104e-01\n",
            "  1.23727590e-01  7.52999842e-01  5.11584818e-01  3.98406237e-01\n",
            " -9.82506335e-01 -2.94123322e-01  5.26561439e-01  8.85520935e-01\n",
            " -7.44853690e-02 -4.38124210e-01  6.91029012e-01 -1.40953600e-01\n",
            " -5.61696172e-01 -1.35473013e+00  7.24327147e-01  2.66871452e-01\n",
            " -6.53034687e-01 -2.37522885e-01  6.61715090e-01 -4.41294163e-01\n",
            "  2.61001378e-01 -7.51617253e-01 -2.72703946e-01  5.74431598e-01\n",
            " -4.27902251e-01 -1.03859723e+00 -5.51438093e-01 -3.60201776e-01\n",
            "  8.05080980e-02  1.30812180e+00  1.68969408e-01 -7.61346892e-02\n",
            " -8.39987040e-01 -3.11154932e-01 -8.27390850e-01 -6.42225981e-01\n",
            "  5.48619665e-02 -3.13973069e-01 -1.30151212e-01  5.24714828e-01\n",
            " -7.65314341e-01 -1.06097901e+00  6.68363035e-01 -8.64295900e-01\n",
            " -1.95932344e-01  1.29216850e-01 -6.02871597e-01  5.92680395e-01\n",
            "  1.40059832e-02 -4.47658338e-02 -9.21775103e-01 -1.18034410e+00\n",
            "  7.75919780e-02  3.78669620e-01  5.20456135e-01 -7.08966732e-01\n",
            " -4.19270068e-01 -6.86784983e-01 -2.90652305e-01 -4.86821562e-01\n",
            " -6.80988252e-01  1.27392948e+00  7.27810919e-01 -1.00410037e-01\n",
            "  1.78705752e-01  3.99340540e-02  4.48201388e-01  1.02290165e+00\n",
            " -1.62656248e-01 -1.14284344e-01  4.17875260e-01  8.82594511e-02\n",
            " -1.31135315e-01 -9.77120161e-01 -3.91859233e-01  2.88290769e-01\n",
            "  7.55457699e-01  1.59270436e-01 -1.82300225e-01 -6.82225451e-02\n",
            "  6.39079332e-01  1.48032725e+00  1.54891920e+00 -1.79527536e-01\n",
            "  7.44735479e-01  2.35512629e-02 -2.97703713e-01 -3.16879988e-01\n",
            " -9.56249237e-01  6.42698109e-02 -8.69995832e-01  2.63163019e-02\n",
            " -3.39189112e-01 -1.34369537e-01  5.61086178e-01 -8.59990537e-01\n",
            "  6.66456342e-01 -2.42287293e-01  4.26216215e-01  8.59853685e-01\n",
            " -2.72089273e-01  4.07566279e-02  5.41771352e-01 -2.75143445e-01\n",
            "  2.05048427e-01  3.55606705e-01 -1.45263660e+00 -3.01522881e-01\n",
            " -9.08787489e-01  6.66560769e-01  2.93511808e-01  6.93438649e-01\n",
            "  6.81454897e-01 -6.24926388e-01  3.75858039e-01 -2.35248789e-01\n",
            " -2.98584431e-01 -6.29298389e-01 -7.41839945e-01  1.59921512e-01\n",
            "  3.00503761e-01  6.45656288e-02  3.08507681e-01  5.78313649e-01\n",
            " -2.70926654e-01  3.19938868e-01 -3.76709640e-01 -2.29502812e-01\n",
            "  1.53121814e-01  2.43463628e-02 -3.97882938e-01  3.01899225e-01\n",
            " -7.70920992e-01  4.31132346e-01  4.49931532e-01  1.02741516e+00\n",
            "  1.05360055e+00  6.66024923e-01 -4.81031686e-01 -1.23237240e+00\n",
            "  1.55614227e-01  3.34980696e-01  8.10146511e-01  7.03166947e-02\n",
            " -3.62088621e-01  5.31141460e-01  6.87167048e-01 -2.18780562e-01\n",
            " -6.86685026e-01  2.42944375e-01  7.86313415e-01  4.94701475e-01\n",
            " -6.95836961e-01 -4.02217746e-01  4.71874595e-01  1.30971992e+00\n",
            " -4.33772244e-02  9.91474837e-02  1.25185597e+00 -2.57723689e-01\n",
            "  2.81482190e-01 -6.72136366e-01 -3.78084302e-01 -1.09309876e+00\n",
            " -7.82183290e-01  3.56182784e-01  1.22455740e+00  4.77695912e-01\n",
            " -3.49005461e-02  4.90427017e-01 -3.95800769e-01  3.17033768e-01\n",
            " -7.25771904e-01  1.12520111e+00 -3.71158957e-01  9.43457782e-01\n",
            " -6.92161798e-01 -1.88484997e-01 -5.10888517e-01 -1.52677262e+00\n",
            "  1.01259649e+00  5.33389807e-01 -8.41938615e-01 -3.19338262e-01\n",
            "  1.75907671e-01  4.45119113e-01 -6.38362169e-01 -1.24895006e-01\n",
            " -4.59826946e-01 -1.47501096e-01  3.67867589e-01 -4.84057873e-01\n",
            "  1.63435772e-01  5.23226976e-01  7.40690827e-01  1.63854882e-01\n",
            " -1.01800931e+00  4.92158324e-01  9.97297645e-01 -1.50140136e-01\n",
            "  4.60534781e-01 -4.78386045e-01  6.34369910e-01  7.07962215e-02\n",
            " -7.79466555e-02 -1.16971219e+00 -9.53866005e-01  3.67325485e-01\n",
            "  7.31731355e-01  4.69132334e-01 -1.14972734e+00 -1.54736154e-02\n",
            "  8.61962140e-01  3.57881755e-01 -1.51275837e+00 -2.64880937e-02\n",
            "  4.63882565e-01  7.90223718e-01 -7.36312807e-01 -1.22356392e-01\n",
            " -8.23155582e-01 -9.09572840e-01  3.41871738e-01 -6.71273232e-01\n",
            "  6.84261858e-01  4.37459022e-01  7.49749124e-01 -1.64030001e-01\n",
            " -1.76790774e-01 -4.04531449e-01  8.58757079e-01  8.71084809e-01\n",
            "  2.67529696e-01  1.20485675e+00  1.45721644e-01  7.23540664e-01\n",
            "  1.43423662e-01  1.42941892e+00 -7.67978355e-02 -4.33338434e-02\n",
            "  2.98881084e-01 -4.29387450e-01 -9.06505659e-02  4.17364508e-01\n",
            " -1.11838138e+00  9.54268456e-01  1.67585686e-01 -2.13297188e-01\n",
            " -1.01919925e+00 -2.43647754e-01 -5.27822495e-01  2.06332386e-01\n",
            " -4.15579677e-02  6.27028525e-01  2.94581443e-01  8.58453393e-01\n",
            " -4.26736064e-02  6.26304865e-01  6.41231090e-02 -4.74904664e-02\n",
            " -9.69367445e-01  4.00843978e-01 -3.28016102e-01  7.11723387e-01\n",
            " -2.00271487e+00  1.27164769e+00 -9.76421162e-02  3.94797921e-01\n",
            " -9.27443951e-02  4.37899977e-01  1.12788379e+00 -5.11215806e-01\n",
            " -5.50568640e-01  2.81624258e-01 -9.34710819e-03  3.15873504e-01\n",
            " -1.05427825e+00  5.21949530e-01 -5.72859704e-01 -1.76683828e-01\n",
            "  8.03953946e-01 -8.61227214e-02 -5.34978151e-01  4.47855562e-01\n",
            "  8.01557124e-01 -4.42123026e-01  5.27306162e-02  6.96149290e-01\n",
            "  4.22219895e-02  7.07883611e-02 -6.89077139e-01  1.70736924e-01\n",
            " -3.33388269e-01 -1.34462699e-01  9.97309625e-01  1.82520822e-01\n",
            " -5.11232615e-01  2.47640505e-01 -4.30373073e-01  4.03810471e-01\n",
            "  3.22820336e-01  3.34326476e-02  6.49450839e-01 -1.98242530e-01\n",
            " -8.13262224e-01  3.75604659e-01 -3.98040593e-01 -3.21953334e-02\n",
            "  1.01365912e+00 -3.12775284e-01  3.35690200e-01  5.51456869e-01\n",
            "  4.91469830e-01 -3.61750811e-01 -1.70235671e-02  7.06838131e-01\n",
            "  7.92839587e-01  4.11812037e-01  1.77227020e-01 -1.77364454e-01\n",
            "  6.22053385e-01 -5.31508803e-01  1.03534245e+00 -1.06566095e+00\n",
            "  8.33399035e-03 -6.21115208e-01  1.01405394e+00 -9.35958683e-01\n",
            " -2.85679013e-01 -8.78942683e-02 -3.27344865e-01  1.52573258e-01\n",
            "  8.00011098e-01 -6.36305928e-01 -4.55870450e-01 -8.11109364e-01\n",
            " -6.97046161e-01 -1.73091277e-01 -1.12806775e-01 -1.18930483e+00\n",
            " -9.14377868e-02  6.76581800e-01 -4.69334006e-01 -4.08361256e-01\n",
            "  2.75003731e-01 -3.17727596e-01  1.41665205e-01  3.22410107e-01\n",
            "  8.60779703e-01 -2.55831987e-01 -5.70886731e-01 -3.88720125e-01\n",
            " -3.26645821e-01  3.11358809e-01 -1.05989432e+00 -6.24503382e-02\n",
            " -1.22901492e-01 -7.63727650e-02 -9.44231972e-02 -1.47795588e-01\n",
            " -2.25564301e-01  6.71033800e-01 -3.74251276e-01 -5.39881170e-01\n",
            " -6.57880545e-01 -5.29579401e-01 -3.23910743e-01 -4.39261347e-01\n",
            "  4.17333692e-01  8.11398268e-01 -1.08800009e-01 -1.30393362e+00\n",
            " -2.02845478e+00 -2.05165632e-02  7.66933784e-02 -6.39373243e-01\n",
            "  1.73936814e-01 -7.20527887e-01 -6.62461102e-01 -8.53921950e-01\n",
            " -5.31255364e-01 -4.39297587e-01 -1.02805746e+00  4.39785033e-01\n",
            " -5.50118864e-01  1.39346230e+00  5.03164053e-01 -3.27281594e-01\n",
            " -3.26411009e-01 -4.28118795e-01 -1.66045040e-01  3.34224910e-01\n",
            " -3.27367872e-01  3.22902948e-01  4.63411599e-01  3.38621855e-01\n",
            " -1.36931038e+00  9.14287388e-01 -4.63847518e-01  2.51166373e-01\n",
            " -2.61954278e-01 -7.87429631e-01 -7.92982519e-01 -5.40821612e-01\n",
            "  1.17096826e-01  5.18363237e-01  8.03327620e-01 -3.37274253e-01\n",
            "  2.66805202e-01  5.59570909e-01 -6.66467965e-01 -2.11005703e-01\n",
            "  5.77587783e-01  5.56448758e-01 -3.20343077e-01 -1.64290890e-01\n",
            "  3.63627635e-02 -1.57520330e+00 -1.14828229e+00 -3.62228185e-01\n",
            " -1.56931490e-01  2.05974817e-01 -4.94424701e-02 -2.99320351e-02\n",
            "  5.83011210e-01 -6.86189890e-01 -1.67772830e-01  4.88785625e-01\n",
            "  6.07747614e-01  1.65746316e-01 -5.10657191e-01  6.70521259e-01\n",
            "  1.05974980e-01  1.00342882e+00  5.57968080e-01  1.18203878e+00\n",
            " -3.43121916e-01  3.18881303e-01  3.09184343e-01 -4.31300431e-01\n",
            "  3.50670606e-01 -1.75889000e-01 -8.20143521e-01 -3.36131126e-01\n",
            "  2.99921602e-01 -6.13275468e-01 -2.75577068e-01 -7.09707141e-02\n",
            "  1.25400949e+00 -1.95720300e-01 -3.64002794e-01  9.93465539e-03\n",
            " -2.35246290e-02  1.24354970e+00  7.38537610e-01 -1.01368165e+00\n",
            "  9.98186350e-01 -1.23545277e+00  6.12265348e-01 -5.28551161e-01\n",
            "  8.56331885e-02  9.83304262e-01  7.01160669e-01 -1.71531186e-01\n",
            "  6.34980446e-04 -4.56788450e-01  3.58720981e-02 -1.15148075e-01\n",
            " -4.42264937e-02 -5.69147663e-03  2.75778800e-01 -1.25513688e-01\n",
            " -6.91754341e-01  8.84035349e-01 -1.46623540e+00 -3.50641429e-01\n",
            "  7.82048404e-01  2.76234806e-01  6.77693009e-01  8.59187186e-01\n",
            "  1.54003754e-01  2.81153083e-01 -8.28443587e-01  6.11062109e-01\n",
            " -8.46489370e-01 -6.48833811e-01 -4.15451407e-01 -5.54552734e-01\n",
            " -3.76978785e-01  8.05627286e-01 -7.67601013e-01 -6.35062456e-01\n",
            " -6.89178348e-01  6.92303181e-01 -1.44244850e-01  1.51715264e-01\n",
            " -4.07770663e-01 -5.44598758e-01  9.77691829e-01  6.77884161e-01\n",
            " -2.05068678e-01  5.50915658e-01 -5.42097628e-01  7.57294714e-01\n",
            "  5.27980328e-01 -7.02273786e-01  2.92778462e-01 -2.01341733e-01\n",
            "  3.18011306e-02  1.27448642e+00  4.91003036e-01 -2.03754768e-01\n",
            "  3.78837764e-01  7.35639989e-01 -2.45920748e-01  1.39411822e-01\n",
            "  7.73610711e-01  4.53799903e-01 -1.09432626e+00  1.56154975e-01\n",
            "  6.12723053e-01  7.69824922e-01  1.18568033e-01 -4.04622048e-01\n",
            " -1.00409217e-01  4.38101202e-01 -2.85015762e-01  3.31863284e-01\n",
            " -1.03792690e-01  2.55491257e-01 -1.08356166e+00 -1.84234008e-02\n",
            " -3.20859522e-01 -3.12481672e-01 -1.08269703e+00  6.05505049e-01\n",
            "  3.43082905e-01  5.07546544e-01 -6.61523461e-01 -2.49946877e-01\n",
            "  2.12837562e-01 -2.01101676e-01 -2.72800803e-01  1.56341732e-01\n",
            " -8.15949440e-01 -5.16259074e-01  6.03670716e-01  2.98817039e-01\n",
            " -1.93593025e-01  2.49379680e-01  2.95584202e-02 -4.94372010e-01\n",
            "  1.40310988e-01  1.19155385e-01  3.05954248e-01 -6.17071211e-01\n",
            "  6.92852199e-01  1.21212173e+00  3.67215812e-01  6.90129459e-01\n",
            "  1.93660006e-01 -8.93730521e-01  5.02931356e-01 -9.28371251e-01\n",
            "  5.94306588e-01  3.38527709e-01 -1.98542178e-01  8.99404764e-01\n",
            " -5.38643897e-01  2.52136976e-01  7.00791879e-03 -1.34218991e-01\n",
            " -5.01761615e-01  1.12169349e+00 -1.27622843e-01 -1.35599816e+00\n",
            " -2.84281790e-01 -5.32626994e-02 -8.91164765e-02 -1.24071367e-01\n",
            "  2.13104337e-01 -4.68356103e-01  2.45394409e-01 -4.52251881e-01\n",
            " -2.07828805e-01  4.56721008e-01 -2.93182462e-01 -1.67315662e-01\n",
            " -3.17601115e-02  3.54873836e-01  9.51067954e-02  3.43537889e-02\n",
            " -1.31841886e+00 -1.09115744e+00 -2.36773923e-01  1.69521004e-01\n",
            "  1.12705633e-01 -1.96476951e-01  1.11090362e+00  1.24194002e+00\n",
            " -3.57342750e-01  4.50461656e-01 -2.92546511e-01 -6.81714058e-01\n",
            "  1.05398035e+00 -2.22112522e-01 -1.15250405e-02  3.27936560e-01\n",
            "  1.82679668e-01 -3.67688090e-01  2.31652588e-01  2.52820045e-01\n",
            "  7.74669468e-01 -2.82545209e-01  1.68274224e-01  1.65126652e-01\n",
            "  6.58719003e-01  6.58042252e-01 -4.45689633e-02 -4.19796109e-02\n",
            " -1.94480598e-01  1.25668228e+00 -6.38201654e-01  4.37847912e-01\n",
            " -8.56864870e-01 -4.73212861e-02 -4.77522016e-01  1.17081785e+00\n",
            " -3.27047288e-01 -2.96665788e-01  8.96721333e-02 -5.18180907e-01\n",
            " -1.53594278e-02  3.54576468e-01 -1.41296014e-01  2.53306121e-01\n",
            " -1.79937467e-01  4.47160453e-02 -8.08553517e-01  8.37775946e-01\n",
            " -1.23627804e-01 -2.77936608e-01 -5.47712922e-01 -1.03294349e+00\n",
            "  2.81652629e-01  1.48840523e+00 -9.61028412e-02  1.27650309e+00\n",
            " -8.02429140e-01 -4.61067647e-01  4.22595054e-01  2.01832116e-01\n",
            " -1.11906141e-01  5.76331140e-03 -8.66966009e-01  9.37777102e-01\n",
            " -4.20191288e-01 -4.44435388e-01  3.88264954e-01 -7.39581048e-01\n",
            " -4.46143717e-01 -3.63210797e-01  4.29816455e-01 -1.03209496e+00\n",
            " -6.73132017e-02  7.50381849e-04 -4.39738870e-01 -3.83077323e-01\n",
            " -4.52237248e-01  3.69691372e-01 -4.59289044e-01 -2.56047726e-01\n",
            " -7.51215518e-01  3.31164509e-01 -5.04666328e-01  5.80626428e-01\n",
            " -1.21007234e-01 -5.49879432e-01  2.97872186e-01 -6.84031129e-01\n",
            " -3.42647910e-01 -5.32417059e-01 -2.17767820e-01  7.10515380e-01\n",
            " -1.08351536e-01 -5.43994844e-01 -5.95081270e-01 -1.73204109e-01\n",
            " -8.08438718e-01  4.24875706e-01  8.12677026e-01 -3.56984049e-01\n",
            " -2.89875269e-01 -8.54629517e-01 -3.36239308e-01  2.34762371e-01\n",
            " -6.78411245e-01 -4.85148609e-01 -7.18687952e-01 -7.36031473e-01\n",
            " -7.89177120e-02  2.84944236e-01  4.62222755e-01 -2.25042537e-01\n",
            "  6.50795221e-01 -5.95896207e-02 -3.53852004e-01 -4.14806008e-01]\n",
            "\n",
            "Sentence: The quick brown fox jumps over the lazy dog.\n",
            "Embedding: [-7.24902689e-01 -8.68773520e-01 -1.74256548e-01 -2.22964644e-01\n",
            " -3.46746176e-01  1.73241436e-01 -1.19069564e+00 -2.73608893e-01\n",
            "  2.86596745e-01  1.25114226e+00  8.12194586e-01  4.40008372e-01\n",
            " -2.49924660e-01 -4.53067012e-02 -1.28845498e-02 -1.74349785e+00\n",
            "  1.58710194e+00 -1.73150301e-01  1.35140508e-01  4.63586859e-02\n",
            " -8.52786720e-01 -3.01466882e-02 -9.52248514e-01  9.59861577e-01\n",
            " -8.33811104e-01  6.70782626e-01  1.40562221e-01  2.75801599e-01\n",
            " -3.33755851e-01  1.23562992e-01 -8.32998082e-02 -6.29490167e-02\n",
            " -1.14935510e-01  2.54387319e-01 -3.91639620e-01  4.18261498e-01\n",
            "  9.99128282e-01 -1.01466358e+00  2.45786514e-02 -1.66890666e-01\n",
            "  2.88294345e-01 -5.67931950e-01  3.23796660e-01 -3.87505084e-01\n",
            " -4.63496476e-01 -8.23426783e-01 -4.80624169e-01 -2.82284558e-01\n",
            " -3.37184928e-02 -6.22204423e-01  2.99483269e-01  4.64135677e-01\n",
            " -1.41462579e-01 -1.53784445e-02  5.79474354e-03 -5.57675004e-01\n",
            "  4.06510592e-01  3.25376168e-03  9.72337246e-01  7.73470879e-01\n",
            "  5.53732455e-01 -3.20433170e-01  1.02655268e+00 -4.23539542e-02\n",
            " -1.48464441e+00 -1.68489084e-01 -3.25745374e-01  1.42977655e+00\n",
            " -7.97053799e-02  1.13447964e+00  6.25361443e-01 -6.27929389e-01\n",
            "  5.93891740e-01  8.70209992e-01 -4.47033852e-01 -1.83335185e-01\n",
            "  4.85308409e-01  2.21112952e-01 -5.69733679e-01 -2.99511272e-02\n",
            "  1.47981179e+00 -6.34089038e-02  3.51677425e-02  7.53511906e-01\n",
            " -2.71985233e-01  4.68933195e-01  4.97698784e-01 -4.28259641e-01\n",
            " -4.76484418e-01 -8.16664100e-02 -8.36264133e-01 -3.75797123e-01\n",
            "  2.67336935e-01  1.94008067e-01  2.50322342e-01  4.32520509e-01\n",
            " -2.72139937e-01 -1.03782809e+00  1.33778572e-01 -8.70810926e-01\n",
            " -2.50382990e-01  1.04381394e+00 -1.82028577e-01  4.26936507e-01\n",
            " -3.94654185e-01 -4.89677221e-01 -1.16682082e-01 -7.00233996e-01\n",
            " -9.36942875e-01 -7.11331293e-02 -2.04330623e-01  3.42988163e-01\n",
            "  8.94569218e-01  2.72623003e-02 -7.09883988e-01 -7.77274370e-01\n",
            " -2.24637836e-02  3.60374808e-01  1.04403704e-01  1.05694287e-01\n",
            " -1.27168655e-01 -5.17044544e-01  1.09436858e+00  2.57014334e-01\n",
            " -2.35297799e-01 -5.19720733e-01 -1.32492647e-01  3.31336141e-01\n",
            "  9.23438549e-01  5.83538234e-01  5.61853170e-01  7.18550861e-01\n",
            "  1.22311644e-01 -9.39980447e-01  2.98620135e-01  6.32377148e-01\n",
            " -1.21298514e-01  5.54997146e-01 -5.12524843e-01 -5.20484447e-02\n",
            " -4.85430390e-01 -1.19896673e-01  6.74889758e-02 -1.25152600e+00\n",
            " -3.57256144e-01 -6.91067398e-01 -1.69230655e-01 -1.48979530e-01\n",
            " -2.36201491e-02 -1.68960169e-01 -6.88678920e-01  6.03115745e-02\n",
            "  5.23169816e-01 -7.95944035e-01 -2.10901871e-01  4.63560015e-01\n",
            "  8.22544694e-02  3.14859301e-03  2.84301609e-01  7.26527497e-02\n",
            "  3.83761853e-01 -8.62379596e-02  3.13589424e-01 -1.28722322e+00\n",
            "  1.81035161e-01 -6.25765145e-01  5.02625883e-01 -1.11451900e+00\n",
            " -1.39761412e+00  5.14780700e-01 -1.76963285e-01 -3.00079703e-01\n",
            "  5.67307889e-01  5.62564075e-01  5.90341389e-01  5.92606783e-01\n",
            "  3.55469555e-01 -1.53547299e+00 -1.08271413e-01 -3.92370939e-01\n",
            " -7.88448393e-01 -1.06044519e+00  1.56463683e-01  1.16704144e-01\n",
            " -5.22784531e-01 -4.20856386e-01  3.49512607e-01  4.20904905e-01\n",
            "  3.15906614e-01  2.07204267e-01  5.79673529e-01  8.65068808e-02\n",
            " -1.25369406e+00 -3.48122984e-01  6.61994874e-01 -1.56832822e-02\n",
            " -5.26673734e-01 -4.60759729e-01  7.18600333e-01 -1.84982762e-01\n",
            " -7.53798187e-01 -1.19083202e+00  3.82147908e-01  2.16045782e-01\n",
            " -2.76143342e-01 -6.34249449e-02  1.99527964e-01 -5.33762984e-02\n",
            "  1.02601480e+00 -6.75770119e-02  4.08903807e-01  1.76003471e-01\n",
            " -5.23551740e-02  1.36225209e-01 -4.81642574e-01 -1.74902335e-01\n",
            " -9.15715754e-01 -3.86004359e-01  4.23760473e-04  5.60851038e-01\n",
            " -3.40491861e-01  5.67780256e-01 -1.38494384e+00  3.55988622e-01\n",
            "  4.44835335e-01 -8.46995339e-02  1.93711087e-01 -1.75763333e+00\n",
            " -1.50862798e-01 -2.32552633e-01  6.05205931e-02  2.75989264e-01\n",
            "  2.00971708e-01  2.89758056e-01 -4.10103537e-02 -5.34768403e-01\n",
            " -1.62759483e-01 -2.59987980e-01  1.41926944e+00 -2.64057636e-01\n",
            " -1.71862543e-01  7.62564167e-02  7.68081009e-01 -7.17013553e-02\n",
            " -3.44388783e-02 -5.60616553e-01 -1.30179062e-01  6.56803278e-03\n",
            " -9.77785408e-01 -9.55501854e-01 -5.59365809e-01 -5.82095683e-01\n",
            "  4.01793748e-01 -9.95976448e-01  1.52470493e+00 -4.56600934e-01\n",
            " -3.64057094e-01 -4.89923567e-01 -6.88200474e-01  3.14194858e-02\n",
            "  4.96476084e-01 -8.16737711e-01  6.83574140e-01 -7.37315416e-01\n",
            " -7.27862716e-02  7.57548437e-02 -9.67076004e-01 -4.87728864e-01\n",
            " -5.66207051e-01  4.94081378e-01  6.09419286e-01 -6.94422722e-01\n",
            "  2.13666618e-01  2.06878603e-01  3.92678261e-01 -2.10377827e-01\n",
            "  1.21634471e+00  7.79090405e-01  1.34774372e-01 -8.87170851e-01\n",
            "  4.57762450e-01  8.62778723e-01 -6.02863848e-01 -5.77967227e-01\n",
            " -6.25905931e-01  2.81901151e-01  7.45480478e-01 -1.85688686e+00\n",
            " -1.40951321e-01 -4.41305526e-02  3.62426639e-01  4.87046599e-01\n",
            "  9.33881178e-02  7.25396931e-01 -8.19288254e-01  1.21919811e+00\n",
            "  5.23294389e-01 -1.47899121e-01  3.84357572e-01  3.86418015e-01\n",
            " -1.19287334e-01 -8.82981777e-01  4.07463878e-01 -1.23562761e-01\n",
            "  2.18712643e-01 -5.10350764e-01 -1.65718928e-01 -3.44916731e-01\n",
            " -5.43907583e-01 -6.60692990e-01 -1.85949877e-01 -6.90542400e-01\n",
            " -1.02437794e+00  5.11792481e-01 -6.35804772e-01  3.62658113e-01\n",
            " -6.63803890e-02  2.41744936e-01 -1.38442671e+00 -2.10570264e+00\n",
            "  3.79497528e-01 -1.98790550e-01  5.15846200e-02 -4.08926606e-01\n",
            " -2.53720075e-01  6.91023022e-02 -8.46910238e-01  7.60962546e-01\n",
            "  1.58514548e-02  1.47460699e+00  6.96640462e-03  1.45106629e-01\n",
            "  7.17172623e-01 -1.55119240e-01  1.60023555e-01  1.42933086e-01\n",
            "  3.77112955e-01 -1.29737943e-01 -9.75607693e-01  4.25766736e-01\n",
            "  5.42492330e-01  2.73535419e-02  1.32459593e+00 -4.96012658e-01\n",
            "  4.95068312e-01  1.19890817e-01 -2.37870719e-02  5.00785053e-01\n",
            "  1.21073961e+00 -4.87041384e-01 -3.16928923e-01  2.63443172e-01\n",
            "  1.68256760e-01 -5.39549053e-01 -1.06049115e-02 -1.14065863e-01\n",
            "  4.53397036e-01  3.22239339e-01  2.37250760e-01  3.35360855e-01\n",
            " -1.05828941e+00  6.71172917e-01  1.18642859e-01 -4.32074696e-01\n",
            "  4.50553387e-01  2.25614294e-01 -4.61378455e-01 -5.61383724e-01\n",
            " -2.65747339e-01  7.21767247e-01  2.63247658e-02  3.42440993e-01\n",
            "  5.52182019e-01  7.38953292e-01  7.24037230e-01  2.29687676e-01\n",
            "  1.00159025e+00  2.97910362e-01  3.81764024e-01 -7.03462839e-01\n",
            " -3.10744405e-01 -1.11207199e+00  5.50700910e-02 -1.75932527e-01\n",
            " -5.58880856e-03 -2.44090438e-01 -5.79863250e-01 -4.06095117e-01\n",
            " -1.92228094e-01  4.19492930e-01  2.85427600e-01 -6.73528016e-01\n",
            " -2.27186561e-01 -6.54875338e-01 -9.83214438e-01  1.44618109e-01\n",
            "  5.14750183e-01 -3.97436284e-02  1.38895750e+00 -9.77986157e-01\n",
            " -1.51332557e+00 -3.44123214e-01  2.01788414e-02  1.55475748e+00\n",
            " -5.22424877e-01 -6.39620006e-01  5.37281692e-01  1.03453243e+00\n",
            "  8.93397853e-02 -1.64406642e-01 -1.29439807e+00  9.80632603e-02\n",
            "  3.69222462e-03  1.19648255e-01  3.10546070e-01 -1.23199069e+00\n",
            " -3.87428612e-01 -2.94087857e-01 -3.00478131e-01 -1.44731998e+00\n",
            "  1.78299978e-01 -1.48942977e-01  3.16021353e-01  1.07224517e-01\n",
            " -6.29453480e-01 -6.74829721e-01 -1.56916177e+00  2.13582873e+00\n",
            " -5.80553949e-01 -2.22586289e-01  1.05683279e+00 -3.61411095e-01\n",
            "  5.17841637e-01  4.58585024e-01 -8.50937307e-01  1.00954759e+00\n",
            "  6.06153607e-01 -2.14476168e-01  1.32190958e-01  1.69743970e-03\n",
            "  6.24945797e-02  6.67920113e-01  4.22760636e-01  1.35224950e+00\n",
            "  4.48148578e-01 -9.25998613e-02  1.17073536e+00 -7.08327591e-01\n",
            " -7.83933818e-01  1.38630819e+00  9.77644742e-01  3.09329838e-01\n",
            "  7.00183153e-01  3.05652469e-02  9.27402914e-01  1.14986598e-01\n",
            " -7.99149930e-01  3.27154011e-01  2.60296702e-01  3.49865258e-02\n",
            " -3.36754997e-03 -2.16582641e-01 -8.90114784e-01  1.53596163e-01\n",
            "  2.83303261e-01  5.91587365e-01  1.03766561e-01  3.26627582e-01\n",
            "  5.16516387e-01 -4.77652818e-01 -1.03119147e+00  3.40652317e-01\n",
            "  1.11365497e+00  1.46950066e-01  4.69389409e-01 -6.40458688e-02\n",
            "  7.45021692e-03  6.36368454e-01  9.52063203e-02 -1.30054533e+00\n",
            " -4.30683829e-02 -5.43007672e-01  5.87270379e-01 -3.96590352e-01\n",
            "  5.98908365e-01  2.42454484e-01 -8.56883526e-01  4.04166013e-01\n",
            " -1.30077446e+00 -1.49663314e-01 -9.11042374e-03  5.67510068e-01\n",
            "  9.53297913e-01  6.56228960e-01  6.34797215e-01  3.89031440e-01\n",
            " -1.00467272e-01  9.44867671e-01  5.32690585e-01  2.78807819e-01\n",
            "  4.98934358e-01  1.02887022e+00  2.63338596e-01 -1.04390895e+00\n",
            "  7.03722298e-01  4.92495209e-01  4.19184476e-01 -4.92269605e-01\n",
            "  7.76308551e-02  8.58247221e-01 -9.61415112e-01 -1.08696091e+00\n",
            "  6.40967607e-01  9.75371525e-02  6.71975091e-02 -5.02191603e-01\n",
            "  7.19702184e-01  5.45111001e-01  4.21069771e-01 -8.51230100e-02\n",
            " -8.35150778e-01 -5.24888813e-01  5.90127409e-01  1.08498776e+00\n",
            " -5.44102252e-01  8.00568640e-01 -2.92140812e-01 -6.68569431e-02\n",
            " -1.62124693e-01  6.09124720e-01 -9.24467266e-01 -3.61890048e-01\n",
            " -2.72347599e-01 -3.43906254e-01 -8.78046811e-01  5.61054826e-01\n",
            "  4.19828534e-01 -8.26887667e-01  5.04989028e-01  5.01876622e-02\n",
            " -4.18623477e-01  9.17194411e-02 -1.33470535e-01 -3.00266236e-01\n",
            " -1.30389914e-01  9.26525965e-02  3.22829783e-01  4.47190136e-01\n",
            "  6.94924891e-01  1.20098889e+00  5.82992256e-01 -5.61212838e-01\n",
            "  2.87772179e-01  8.13210726e-01 -1.05217867e-01  8.37842226e-02\n",
            " -4.69361432e-02  3.30241293e-01  3.13849896e-01  8.89637649e-01\n",
            "  4.62567955e-01  2.10246682e-01 -6.31681085e-01 -6.66077673e-01\n",
            "  6.63276851e-01  4.07439262e-01 -3.79758984e-01  6.11333596e-03\n",
            " -4.83351558e-01 -2.51700372e-01 -1.21491158e+00 -1.23767339e-01\n",
            " -1.81667447e-01 -6.94896281e-01 -9.28028405e-01 -3.38282853e-01\n",
            "  3.79005879e-01 -5.62073886e-01 -1.24945426e+00 -1.50714263e-01\n",
            " -6.19012676e-02  4.01960611e-01  3.39624852e-01  5.85966647e-01\n",
            " -3.83789837e-02 -2.49012858e-02 -4.31953102e-01  1.24892749e-01\n",
            "  1.62987813e-01  2.11438850e-01 -9.87178162e-02  7.08100975e-01\n",
            " -6.41184747e-01 -4.68532592e-01  2.72393376e-01  1.54921591e-01\n",
            "  6.99026659e-02  4.51495379e-01  7.01121569e-01  1.19722374e-01\n",
            " -4.95701909e-01 -4.33989614e-01 -2.68373657e-02 -1.35619566e-01\n",
            "  1.65057644e-01  1.29071414e+00  7.28558227e-02 -7.23353803e-01\n",
            " -1.59468558e-02  1.14237642e+00  1.25140741e-01  2.54283249e-01\n",
            "  5.80405183e-02 -5.13053656e-01  5.97437918e-01  7.17363656e-01\n",
            "  5.73247612e-01 -2.48516738e-01 -6.98401928e-01  2.25576475e-01\n",
            " -1.41845834e+00  6.27452016e-01 -9.15938377e-01 -7.62447655e-01\n",
            "  5.53799808e-01  3.06778878e-01 -2.53025144e-01  3.05074424e-01\n",
            "  2.98884690e-01 -1.02498281e+00 -8.96029174e-02 -5.85571349e-01\n",
            " -9.77632046e-01 -3.96868475e-02 -1.53506660e+00  8.89077127e-01\n",
            "  1.36621043e-01 -1.23639606e-01 -1.90668717e-01 -2.43947938e-01\n",
            " -1.17485188e-01 -6.62012279e-01  4.96497184e-01 -2.42068008e-01\n",
            "  6.77822769e-01  5.39814651e-01 -1.19966805e-01  8.07756364e-01\n",
            " -1.92655958e-02 -1.08199179e-01 -3.31317216e-01  6.17246449e-01\n",
            " -9.18840230e-01  1.07065268e-01  1.58838436e-01 -5.15583992e-01\n",
            " -6.91394508e-01 -7.60363579e-01  1.08331591e-01  2.67701596e-01\n",
            "  4.03210670e-01 -4.35463220e-01 -4.75432038e-01 -5.09622879e-02\n",
            " -1.04610234e-01  2.49356404e-01  1.04518630e-01 -2.30402127e-01\n",
            "  1.13003813e-01  6.68015718e-01 -7.93585479e-01 -4.26051944e-01\n",
            " -1.53065607e-01 -6.48897231e-01  4.49178189e-01  4.43711311e-01\n",
            " -4.62118506e-01  1.67057380e-01 -7.60688543e-01  2.79092312e-01\n",
            " -4.80502605e-01  3.07621285e-02 -6.79280758e-01  4.96484965e-01\n",
            "  6.95232868e-01 -5.65177798e-01 -8.21921170e-01  7.51025736e-01\n",
            " -1.36772454e-01 -4.47762817e-01 -1.41463622e-01  1.99771896e-01\n",
            " -5.29399455e-01  7.49849141e-01 -4.31746632e-01  8.78373813e-03\n",
            "  3.73822898e-02 -7.56252468e-01 -8.05817842e-01 -3.21591198e-01\n",
            "  9.39268470e-02 -3.46090913e-01  2.72688359e-01 -2.12572142e-01\n",
            "  4.09937352e-01  1.81077048e-01  5.67499816e-01 -8.98499563e-02\n",
            "  1.92808151e-01  1.83884218e-01  6.14613712e-01 -1.04351550e-01\n",
            "  3.75173301e-01 -7.34720647e-01  5.34342825e-02  1.15122713e-01\n",
            " -5.00951529e-01 -3.69122356e-01 -9.61136520e-01 -7.17243180e-02\n",
            "  4.63113219e-01  2.86715716e-01 -3.48584503e-01  6.48115635e-01\n",
            "  3.37660573e-02  2.75559366e-01 -8.95482361e-01 -3.45128626e-01\n",
            " -8.39341953e-02 -2.12303832e-01  1.67084076e-02 -2.18257204e-01\n",
            "  5.85114807e-02  3.32758814e-01 -2.69779116e-01 -1.67203560e-01\n",
            " -7.17554271e-01  1.27031374e+00 -1.19837558e+00 -1.64213091e-01\n",
            " -3.03647488e-01 -2.32513309e-01  1.14618488e-01 -5.70818961e-01\n",
            "  4.15088296e-01  8.53176594e-01  6.16775751e-01 -7.05280080e-02\n",
            " -1.05192232e+00  4.41634893e-01  4.42453295e-01  8.63386393e-01\n",
            "  5.72583973e-01 -6.35180056e-01  4.79857355e-01 -1.03176393e-01\n",
            " -7.75524974e-03 -7.51145780e-01 -2.93002754e-01  8.50502014e-01\n",
            " -1.29361665e+00  1.08131440e-03  1.61904186e-01 -3.80027682e-01\n",
            "  5.33482023e-02 -4.00061041e-01  4.54208940e-01  3.06506366e-01]\n",
            "\n"
          ],
          "name": "stdout"
        }
      ]
    },
    {
      "cell_type": "markdown",
      "metadata": {
        "id": "OImIjCT4qaCm"
      },
      "source": [
        "Now Let's work on Problem statement. The solution of problem statement can be achived by various/Multiple ways and later on we can stick on a single solution which better suits to our business requirement."
      ]
    },
    {
      "cell_type": "markdown",
      "metadata": {
        "id": "xUyEtSss3oR0"
      },
      "source": [
        "# **SOLUTION - 1**\n",
        "\n",
        "This solution is developed by using using PyTorch library:\n",
        "\n",
        "**Description:**  In this solution I will provide a function which will take a sentence from user as an input, and provide 10 most similar sentences from existing dataset. Number of output sentences can be changed as per the requirement."
      ]
    },
    {
      "cell_type": "code",
      "metadata": {
        "id": "1-LssEwYPUYm"
      },
      "source": [
        "#Importing the libraries\n",
        "from sentence_transformers import SentenceTransformer, util\n",
        "import torch"
      ],
      "execution_count": null,
      "outputs": []
    },
    {
      "cell_type": "code",
      "metadata": {
        "id": "AvdVjjAJQH5m",
        "outputId": "03900e41-d47a-4818-9b9a-31405fad18e8",
        "colab": {
          "base_uri": "https://localhost:8080/",
          "height": 34
        }
      },
      "source": [
        "#Downloading a pretrained model\n",
        "embedder = SentenceTransformer('distilbert-base-nli-stsb-mean-tokens')"
      ],
      "execution_count": null,
      "outputs": [
        {
          "output_type": "stream",
          "text": [
            "100%|██████████| 245M/245M [00:12<00:00, 19.1MB/s]\n"
          ],
          "name": "stderr"
        }
      ]
    },
    {
      "cell_type": "code",
      "metadata": {
        "id": "AI4YOuHwQcJn"
      },
      "source": [
        "#Now defining our dataset selecting only 100 records to make this process fast as Dataset is having 1186018 records which will take time in procesing \n",
        "#For quick response and working i am using 100 records and also converting it into List for forther processing.\n",
        "corpus = News_CSV['headline_text'].iloc[:100].to_list()"
      ],
      "execution_count": null,
      "outputs": []
    },
    {
      "cell_type": "code",
      "metadata": {
        "id": "0Ak7byVzRLVd",
        "outputId": "24330efd-26d2-445b-90c6-074b7927fb0c",
        "colab": {
          "base_uri": "https://localhost:8080/",
          "height": 34
        }
      },
      "source": [
        "#Checking type of corpus\n",
        "type(corpus)"
      ],
      "execution_count": null,
      "outputs": [
        {
          "output_type": "execute_result",
          "data": {
            "text/plain": [
              "list"
            ]
          },
          "metadata": {
            "tags": []
          },
          "execution_count": 29
        }
      ]
    },
    {
      "cell_type": "code",
      "metadata": {
        "id": "2ZAJSeRbQx40"
      },
      "source": [
        "#Now creating Emeddings of sentences via using pretrained model\n",
        "corpus_embeddings = embedder.encode(corpus, convert_to_tensor=True)"
      ],
      "execution_count": null,
      "outputs": []
    },
    {
      "cell_type": "code",
      "metadata": {
        "id": "nSqDtFlU6mU6"
      },
      "source": [
        "#Creating a method which will accept a sentence in input and extract 10 most similar sentences from dataset\n",
        "def SimilarSentence():\n",
        "  user_input = input('Enter your sentence: ')\n",
        "  queries = [user_input]\n",
        "  top_k = 10\n",
        "  for query in queries:\n",
        "    query_embedding = embedder.encode(query, convert_to_tensor=True)\n",
        "    cos_scores = util.pytorch_cos_sim(query_embedding, corpus_embeddings)[0]\n",
        "    cos_scores = cos_scores.cpu()\n",
        "\n",
        "    #We use torch.topk to find the highest 5 scores\n",
        "    top_results = torch.topk(cos_scores, k=top_k)\n",
        "\n",
        "    print(\"\\n\\n======================\\n\\n\")\n",
        "    print(\"Query:\", query)\n",
        "    print(\"\\nTop 10 most similar sentences in corpus:\")\n",
        "\n",
        "    for score, idx in zip(top_results[0], top_results[1]):\n",
        "        print(corpus[idx], \"(Score: %.4f)\" % (score))\n"
      ],
      "execution_count": null,
      "outputs": []
    },
    {
      "cell_type": "code",
      "metadata": {
        "id": "drfQQqnC8H78",
        "outputId": "d8c18d37-b63c-4560-bbc3-9b6fbad082dd",
        "colab": {
          "base_uri": "https://localhost:8080/",
          "height": 340
        }
      },
      "source": [
        "#Calling SimilarSentence() method\n",
        "SimilarSentence()"
      ],
      "execution_count": null,
      "outputs": [
        {
          "output_type": "stream",
          "text": [
            "Enter your sentence: War is dangerous for health\n",
            "\n",
            "\n",
            "======================\n",
            "\n",
            "\n",
            "Query: War is dangerous for health\n",
            "\n",
            "Top 10 most similar sentences in corpus:\n",
            "cemeteries miss out on funds (Score: 0.4144)\n",
            "kelly disgusted at alleged bp ethanol scare (Score: 0.3102)\n",
            "golf club feeling smoking ban impact (Score: 0.2948)\n",
            "epa still trying to recover chemical clean up costs (Score: 0.2940)\n",
            "girl injured in head on highway crash (Score: 0.2754)\n",
            "council chief executive fails to secure position (Score: 0.2645)\n",
            "businesses should prepare for terrorist attacks (Score: 0.2496)\n",
            "big plan to boost paroo water supplies (Score: 0.2407)\n",
            "dargo fire threat expected to rise (Score: 0.2394)\n",
            "four injured in head on highway crash (Score: 0.2233)\n"
          ],
          "name": "stdout"
        }
      ]
    },
    {
      "cell_type": "markdown",
      "metadata": {
        "id": "ZTHicXjb3aPr"
      },
      "source": [
        "# **SOLUTION - 2**\n",
        "\n",
        "This solution is developed by using KMeans Clustering Algorithm:\n",
        "\n",
        "**Description :** In this solution we are building groups/clusters of similar sentences. Value of K is selected 15 randomly, it can be changed as per the requirement."
      ]
    },
    {
      "cell_type": "code",
      "metadata": {
        "id": "q915A7X_CWRx"
      },
      "source": [
        "#We are working with same sentence embedder model which is already trained \n",
        "#That step is already mentioned above if you want you can skip this step I have written this only for remidings that \n",
        "#After this step we are moving ahead with different approach.\n",
        "corpus_embeddings = embedder.encode(corpus)"
      ],
      "execution_count": null,
      "outputs": []
    },
    {
      "cell_type": "code",
      "metadata": {
        "id": "IVXIt9vX4TKr"
      },
      "source": [
        "# We perform k-means clustering using sklearn, So let's import the library\n",
        "from sklearn.cluster import KMeans"
      ],
      "execution_count": null,
      "outputs": []
    },
    {
      "cell_type": "code",
      "metadata": {
        "id": "EykeoaxG4WMK"
      },
      "source": [
        "#Here we are defining the number of clusters/classes in which we want to divide our dataset (It can be changed as per our need)\n",
        "num_clusters = 15\n",
        "#Initializing the model\n",
        "clustering_model = KMeans(n_clusters=num_clusters)\n",
        "#Fitting/Training our model with embedded dataset\n",
        "clustering_model.fit(corpus_embeddings)\n",
        "#Now assigning labels to cluster_assignment variable \n",
        "cluster_assignment = clustering_model.labels_\n",
        "Clusters = clustering_model.predict(corpus_embeddings)"
      ],
      "execution_count": null,
      "outputs": []
    },
    {
      "cell_type": "code",
      "metadata": {
        "id": "ex1Tmde_qVuA"
      },
      "source": [
        "#Let's Obtained an indexed list which maps our sentences with there clusters/classes\n",
        "clustered_sentences = [[] for i in range(num_clusters)]\n",
        "for sentence_id, cluster_id in enumerate(cluster_assignment):\n",
        "    clustered_sentences[cluster_id].append(corpus[sentence_id])"
      ],
      "execution_count": null,
      "outputs": []
    },
    {
      "cell_type": "code",
      "metadata": {
        "id": "Tjq9Pa8gqbku",
        "outputId": "d9b352b8-5f42-403f-c5db-fbc886e36cb5",
        "colab": {
          "base_uri": "https://localhost:8080/",
          "height": 802
        }
      },
      "source": [
        "#Let's view all clusters with there values/sentences\n",
        "for i, cluster in enumerate(clustered_sentences):\n",
        "    print(\"Cluster \", i+1)\n",
        "    print(cluster)\n",
        "    print(\"\")"
      ],
      "execution_count": null,
      "outputs": [
        {
          "output_type": "stream",
          "text": [
            "Cluster  1\n",
            "['ambitious olsson wins triple jump', 'antic delighted with record breaking barca', 'bryant leads lakers to double overtime win', 'gold coast to hear about bilby project']\n",
            "\n",
            "Cluster  2\n",
            "['brigadier dismisses reports troops harassed in', 'council chief executive fails to secure position', 'crean tells alp leadership critics to shut up', 'low demand forces air service cuts']\n",
            "\n",
            "Cluster  3\n",
            "['big hopes for launceston cycling championship', 'german court to give verdict on sept 11 accused', 'greens offer police station alternative', 'griffiths under fire over project knock back', 'harrington raring to go after break', 'investigation underway into elster creek spill', 'irish man arrested over omagh bombing', 'man arrested after central qld hijack attempt', 'man charged over cooma murder', 'man fined after aboriginal tent embassy raid', 'man jailed over keno fraud', 'man with knife hijacks light plane']\n",
            "\n",
            "Cluster  4\n",
            "['act fire witnesses must be aware of defamation', 'businesses should prepare for terrorist attacks', 'code of conduct toughens organ donation regulations', 'dargo fire threat expected to rise', 'firefighters contain acid spill', 'hacker gains access to eight million credit cards', 'jury to consider verdict in murder case', 'mayor warns landfill protesters']\n",
            "\n",
            "Cluster  5\n",
            "['aust addresses un security council over iraq', 'australia is locked into war timetable opp', 'australia to contribute 10 million in aid to iraq', 'british combat troops arriving daily in kuwait', 'iraqs neighbours plead for continued un inspections', 'iraq to pay for own rebuilding white house', 'israeli forces push into gaza strip']\n",
            "\n",
            "Cluster  6\n",
            "['bushfire victims urged to see centrelink', 'cemeteries miss out on funds', 'dems hold plebiscite over iraqi conflict', 'dispute over at smithton vegetable processing plant', 'epa still trying to recover chemical clean up costs', 'group to meet in north west wa over rock art', 'heavy metal deposits survey nearing end', 'irrigators vote over river management', 'meeting to consider tick clearance costs', 'meeting to focus on broken hill water woes', 'more water restrictions predicted for northern tas']\n",
            "\n",
            "Cluster  7\n",
            "['councillor to contest wollongong as independent', 'direct anger at govt not soldiers crean urges', 'dog mauls 18 month old toddler in nsw', 'freedom records net profit for third successive', 'gilchrist backs rest policy', 'hanson is grossly naive over nsw issues costa', 'hanson should go back where she came from nsw mp', 'kelly not surprised ethanol confidence low', 'massive drug crop discovered in western nsw']\n",
            "\n",
            "Cluster  8\n",
            "['a g calls for infrastructure protection summit', 'bathhouse plans move ahead', 'council moves to protect tas heritage garden', 'council welcomes ambulance levy decision', 'expressions of interest sought to build livestock', 'health minister backs organ and tissue storage', 'martin to lobby against losing nt seat in fed']\n",
            "\n",
            "Cluster  9\n",
            "['more than 40 pc of young men drink alcohol at']\n",
            "\n",
            "Cluster  10\n",
            "['community urged to help homeless youth', 'de villiers to learn fate on march 5', 'funds allocated for domestic violence victims', 'funds allocated for youth at risk', 'juvenile sex offenders unlikely to reoffend as']\n",
            "\n",
            "Cluster  11\n",
            "['blizzard buries united states in bills', 'call for ethanol blend fuel to go ahead', 'four injured in head on highway crash', 'girl injured in head on highway crash', 'govt is to blame for ethanols unpopularity opp', 'kelly disgusted at alleged bp ethanol scare']\n",
            "\n",
            "Cluster  12\n",
            "['aussie qualifier stosur wastes four memphis match', 'barca take record as robson celebrates birthday in', 'calleri avenges final defeat to eliminate massu', 'carews freak goal leaves roma in ruins', 'commonwealth bank cuts fixed home loan rates', 'dent downs philippoussis in tie break thriller', 'digital tv will become commonplace summit', 'injured rios pulls out of buenos aires open', 'inquest finds mans death accidental', 'last minute call hands alinghi big lead']\n",
            "\n",
            "Cluster  13\n",
            "['big plan to boost paroo water supplies', 'council welcomes insurance breakthrough', 'england change three for wales match', 'fed opp to re introduce national insurance', 'funds announced for bridge work', 'funds to go to cadell upgrade', 'funds to help restore cossack', 'moderate lift in wages growth']\n",
            "\n",
            "Cluster  14\n",
            "['death toll continues to climb in south korean subway', 'dying korean subway passengers phoned for help', 'investigations underway into death toll of korean', 'korean subway fire 314 still missing']\n",
            "\n",
            "Cluster  15\n",
            "['aba decides against community broadcasting licence', 'air nz staff in aust strike for pay rise', 'air nz strike to affect australian travellers', 'golf club feeling smoking ban impact']\n",
            "\n"
          ],
          "name": "stdout"
        }
      ]
    },
    {
      "cell_type": "code",
      "metadata": {
        "id": "U5nPWZn2NVfO"
      },
      "source": [
        "#Let's plot and visualize these clusters\n",
        "#Importing required libraries for ploting the result of KMeans\n",
        "%matplotlib inline\n",
        "import matplotlib.pyplot as plt\n",
        "import seaborn as sns; sns.set()  # for plot styling\n",
        "import numpy as np"
      ],
      "execution_count": null,
      "outputs": []
    },
    {
      "cell_type": "code",
      "metadata": {
        "id": "9ManVS6ANYgd",
        "outputId": "392a875f-b3db-4897-f789-72dbd7dc8914",
        "colab": {
          "base_uri": "https://localhost:8080/",
          "height": 268
        }
      },
      "source": [
        "#Designing the Plot style and fitting it with our dataset\n",
        "plt.scatter(corpus_embeddings[:, 0], corpus_embeddings[:, 1], c=Clusters, s=50, cmap='viridis')\n",
        "\n",
        "centers = clustering_model.cluster_centers_\n",
        "\n",
        "#In below Plot centroids are also allocated by using Black colour.\n",
        "plt.scatter(centers[:, 0], centers[:, 1], c='Black', s=50, alpha=0.5);"
      ],
      "execution_count": null,
      "outputs": [
        {
          "output_type": "display_data",
          "data": {
            "image/png": "[encoded data removed]",
            "text/plain": [
              "<Figure size 432x288 with 1 Axes>"
            ]
          },
          "metadata": {
            "tags": []
          }
        }
      ]
    },
    {
      "cell_type": "markdown",
      "metadata": {
        "id": "ytxSIyqkpzjn"
      },
      "source": [
        "# **SOLUTION - 3**\n",
        "\n",
        "This solution is also developed by using PyTorch Library:\n",
        "\n",
        "**Description :**This approach is also like first solution but the differnce is there is no restriction on number of output sentences But because I don't want that it starts giving those sentences which are not having relevant rank, So I put a contstraint on time which can be changed according to the requirement/need. "
      ]
    },
    {
      "cell_type": "code",
      "metadata": {
        "id": "kAW7EBNZw3-X"
      },
      "source": [
        "#Importing time module to make restrictions on our model as per defined time and it will ask user to enter time five times.\n",
        "import time"
      ],
      "execution_count": null,
      "outputs": []
    },
    {
      "cell_type": "code",
      "metadata": {
        "id": "R0DwXSQap3P-",
        "outputId": "bd7053a2-f235-4d60-89b4-fc9eb4c680ac",
        "colab": {
          "base_uri": "https://localhost:8080/",
          "height": 1000
        }
      },
      "source": [
        "#Below logic is also accepting input sentence from user and giving result as similar sentences \n",
        "#The difference from previous solution is here we made restriction on Time not number of sentences\n",
        "n = 5\n",
        "while n > 0:\n",
        "        inp_question = input(\"Please enter a question: \")\n",
        "\n",
        "        start_time = time.time()\n",
        "        question_embedding = model.encode(inp_question, convert_to_tensor=True)\n",
        "        hits = util.semantic_search(question_embedding, corpus_embeddings)\n",
        "        end_time = time.time()\n",
        "        hits = hits[0]  #Get the hits for the first query\n",
        "\n",
        "        print(\"Input question:\", inp_question)\n",
        "        print(\"Results (after {:.3f} seconds):\".format(end_time-start_time))\n",
        "        for hit in hits[0:5]:\n",
        "            print(\"\\t{:.3f}\\t{}\".format(hit['score'], corpus[hit['corpus_id']]))\n",
        "\n",
        "        print(\"\\n\\n========\\n\")\n",
        "        n = n-1\n",
        "        if n==0:\n",
        "          break\n",
        "  print(\"Five attempts completed\")\n"
      ],
      "execution_count": null,
      "outputs": [
        {
          "output_type": "stream",
          "text": [
            "Input question: cemeteries miss out on funds\n",
            "Results (after 0.255 seconds):\n",
            "\t0.807\tcemeteries miss out on funds\n",
            "\t0.474\tcouncil chief executive fails to secure position\n",
            "\t0.361\tbrigadier dismisses reports troops harassed in\n",
            "\t0.358\tlow demand forces air service cuts\n",
            "\t0.310\theavy metal deposits survey nearing end\n",
            "\n",
            "\n",
            "========\n",
            "\n",
            "Input question: low demand forces air service cuts\n",
            "Results (after 0.076 seconds):\n",
            "\t0.798\tlow demand forces air service cuts\n",
            "\t0.477\tbrigadier dismisses reports troops harassed in\n",
            "\t0.417\tcrean tells alp leadership critics to shut up\n",
            "\t0.352\tcemeteries miss out on funds\n",
            "\t0.339\tcommonwealth bank cuts fixed home loan rates\n",
            "\n",
            "\n",
            "========\n",
            "\n",
            "Input question: commonwealth bank cuts fixed home loan rates\n",
            "Results (after 0.070 seconds):\n",
            "\t0.739\tcommonwealth bank cuts fixed home loan rates\n",
            "\t0.357\tlow demand forces air service cuts\n",
            "\t0.343\tfed opp to re introduce national insurance\n",
            "\t0.301\taba decides against community broadcasting licence\n",
            "\t0.300\tgilchrist backs rest policy\n",
            "\n",
            "\n",
            "========\n",
            "\n",
            "Input question: gilchrist backs rest policy\n",
            "Results (after 0.064 seconds):\n",
            "\t0.706\tgilchrist backs rest policy\n",
            "\t0.370\thanson should go back where she came from nsw mp\n",
            "\t0.348\tmartin to lobby against losing nt seat in fed\n",
            "\t0.341\tmeeting to consider tick clearance costs\n",
            "\t0.340\tbrigadier dismisses reports troops harassed in\n",
            "\n",
            "\n",
            "========\n",
            "\n",
            "Input question: meeting to consider tick clearance costs\n",
            "Results (after 0.058 seconds):\n",
            "\t0.781\tmeeting to consider tick clearance costs\n",
            "\t0.352\tfed opp to re introduce national insurance\n",
            "\t0.330\tmartin to lobby against losing nt seat in fed\n",
            "\t0.325\tcouncil moves to protect tas heritage garden\n",
            "\t0.323\ta g calls for infrastructure protection summit\n",
            "\n",
            "\n",
            "========\n",
            "\n",
            "Input question: fed opp to re introduce national insurance\n",
            "Results (after 0.062 seconds):\n",
            "\t0.741\tfed opp to re introduce national insurance\n",
            "\t0.469\tcouncil welcomes insurance breakthrough\n",
            "\t0.401\thanson should go back where she came from nsw mp\n",
            "\t0.382\tfunds announced for bridge work\n",
            "\t0.368\tbathhouse plans move ahead\n",
            "\n",
            "\n",
            "========\n",
            "\n",
            "Input question: \n",
            "Results (after 0.039 seconds):\n",
            "\t0.305\tfunds to go to cadell upgrade\n",
            "\t0.298\tfunds allocated for youth at risk\n",
            "\t0.297\tisraeli forces push into gaza strip\n",
            "\t0.282\tfunds allocated for domestic violence victims\n",
            "\t0.275\tfunds to help restore cossack\n",
            "\n",
            "\n",
            "========\n",
            "\n",
            "Input question: End\n",
            "Results (after 0.066 seconds):\n",
            "\t0.349\tcalleri avenges final defeat to eliminate massu\n",
            "\t0.340\theavy metal deposits survey nearing end\n",
            "\t0.327\tbrigadier dismisses reports troops harassed in\n",
            "\t0.327\tlow demand forces air service cuts\n",
            "\t0.264\tcrean tells alp leadership critics to shut up\n",
            "\n",
            "\n",
            "========\n",
            "\n",
            "Input question: False\n",
            "Results (after 0.064 seconds):\n",
            "\t0.338\tbrigadier dismisses reports troops harassed in\n",
            "\t0.332\tcouncil chief executive fails to secure position\n",
            "\t0.319\tlow demand forces air service cuts\n",
            "\t0.274\tfunds allocated for youth at risk\n",
            "\t0.248\taba decides against community broadcasting licence\n",
            "\n",
            "\n",
            "========\n",
            "\n",
            "Input question: shut \n",
            "Results (after 0.066 seconds):\n",
            "\t0.408\tbrigadier dismisses reports troops harassed in\n",
            "\t0.403\tlow demand forces air service cuts\n",
            "\t0.370\tcrean tells alp leadership critics to shut up\n",
            "\t0.301\theavy metal deposits survey nearing end\n",
            "\t0.284\tcalleri avenges final defeat to eliminate massu\n",
            "\n",
            "\n",
            "========\n",
            "\n",
            "Input question: calleri avenges final defeat to eliminate massu\n",
            "Results (after 0.069 seconds):\n",
            "\t0.685\tcalleri avenges final defeat to eliminate massu\n",
            "\t0.412\theavy metal deposits survey nearing end\n",
            "\t0.364\tinquest finds mans death accidental\n",
            "\t0.363\tdent downs philippoussis in tie break thriller\n",
            "\t0.312\tcrean tells alp leadership critics to shut up\n",
            "\n",
            "\n",
            "========\n",
            "\n",
            "Input question: crean tells alp leadership critics to shut up\n",
            "Results (after 0.069 seconds):\n",
            "\t0.785\tcrean tells alp leadership critics to shut up\n",
            "\t0.525\tbrigadier dismisses reports troops harassed in\n",
            "\t0.404\tlow demand forces air service cuts\n",
            "\t0.332\tcalleri avenges final defeat to eliminate massu\n",
            "\t0.308\tmeeting to focus on broken hill water woes\n",
            "\n",
            "\n",
            "========\n",
            "\n",
            "Input question: meeting to focus on broken hill water woes\n",
            "Results (after 0.067 seconds):\n",
            "\t0.737\tmeeting to focus on broken hill water woes\n",
            "\t0.348\tbushfire victims urged to see centrelink\n",
            "\t0.341\tcrean tells alp leadership critics to shut up\n",
            "\t0.331\tmore water restrictions predicted for northern tas\n",
            "\t0.327\tbrigadier dismisses reports troops harassed in\n",
            "\n",
            "\n",
            "========\n",
            "\n",
            "Input question: brigadier dismisses reports troops harassed in\n",
            "Results (after 0.066 seconds):\n",
            "\t0.747\tbrigadier dismisses reports troops harassed in\n",
            "\t0.464\tcrean tells alp leadership critics to shut up\n",
            "\t0.365\tlow demand forces air service cuts\n",
            "\t0.318\tmeeting to focus on broken hill water woes\n",
            "\t0.280\tmartin to lobby against losing nt seat in fed\n",
            "\n",
            "\n",
            "========\n",
            "\n",
            "Input question: martin to lobby against losing nt seat in fed\n",
            "Results (after 0.080 seconds):\n",
            "\t0.755\tmartin to lobby against losing nt seat in fed\n",
            "\t0.400\tmeeting to consider tick clearance costs\n",
            "\t0.318\tcouncil moves to protect tas heritage garden\n",
            "\t0.310\tmore water restrictions predicted for northern tas\n",
            "\t0.308\tgilchrist backs rest policy\n",
            "\n",
            "\n",
            "========\n",
            "\n",
            "Input question: gilchrist backs rest policy\n",
            "Results (after 0.063 seconds):\n",
            "\t0.706\tgilchrist backs rest policy\n",
            "\t0.370\thanson should go back where she came from nsw mp\n",
            "\t0.348\tmartin to lobby against losing nt seat in fed\n",
            "\t0.341\tmeeting to consider tick clearance costs\n",
            "\t0.340\tbrigadier dismisses reports troops harassed in\n",
            "\n",
            "\n",
            "========\n",
            "\n"
          ],
          "name": "stdout"
        }
      ]
    },
    {
      "cell_type": "markdown",
      "metadata": {
        "id": "iXD-SKsS9yiD"
      },
      "source": [
        "\n",
        "So, This way we can achieve multiple solutions for above problem statement. \n",
        "More solution on which this solution can be acheived is :\n",
        "\n",
        "*   we can generate sentence embeddings by using word2vec library and also Starspace for generating similar sentences.\n",
        "*   This solution can also me achieved by ElasticSearch module.\n",
        "*   We can also use Fasis model here for generate solution by other way.\n",
        "\n",
        "\n",
        "**Thanks & Regards,**\n",
        "\n",
        "**Neha Kumari.**\n"
      ]
    }
  ]
}